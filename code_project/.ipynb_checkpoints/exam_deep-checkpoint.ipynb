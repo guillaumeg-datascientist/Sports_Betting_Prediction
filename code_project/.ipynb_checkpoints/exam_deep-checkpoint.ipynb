{
 "cells": [
  {
   "cell_type": "code",
   "execution_count": null,
   "id": "d068f6d5",
   "metadata": {},
   "outputs": [],
   "source": [
    "import numpy as np\n",
    "import pandas as pd\n",
    "\n",
    "from tensorflow.keras.models import Sequential\n",
    "from tensorflow.keras.layers import Conv2D, MaxPooling2D,GlobalAveragePooling2D,Dropout, Flatten, Dense\n",
    "from tensorflow.keras import regularizers\n",
    "from tensorflow.keras.optimizers import SGD\n",
    "from tensorflow.keras.preprocessing.image import ImageDataGenerator\n",
    "from sklearn.metrics import roc_auc_score\n",
    "from sklearn.preprocessing import LabelEncoder # one-hot encoding for age\n",
    "\n",
    "from PIL import Image \n",
    "import matplotlib.image as mpimg\n",
    "import matplotlib.pyplot as plt\n",
    "from sklearn.model_selection import train_test_split"
   ]
  },
  {
   "cell_type": "code",
   "execution_count": null,
   "id": "56b397c0",
   "metadata": {},
   "outputs": [],
   "source": [
    "from tensorflow.keras.preprocessing.image import ImageDataGenerator \n",
    "\n",
    "train_datagen = ImageDataGenerator(rescale = 1./255,\n",
    "                                   shear_range = 0.2,\n",
    "                                   zoom_range = 0.2,\n",
    "                                   rotation_range=40,\n",
    "                                   width_shift_range=0.2,\n",
    "                                   height_shift_range=0.2,\n",
    "                                   horizontal_flip=True,\n",
    "                                   fill_mode='nearest')\n",
    "\n",
    "test_datagen = ImageDataGenerator(rescale = 1./255)"
   ]
  },
  {
   "cell_type": "code",
   "execution_count": null,
   "id": "9ff5d892",
   "metadata": {},
   "outputs": [],
   "source": [
    "# Lancer le code suivant\n",
    "\n",
    "# On prend des lots de 32\n",
    "\n",
    "training_set = train_datagen.flow_from_directory('images',\n",
    "target_size = (64, 64), batch_size = 32, class_mode = 'categorical')\n",
    "\n",
    "test_set = test_datagen.flow_from_directory('images_test', \n",
    "target_size = (64, 64),\n",
    "batch_size = 32,\n",
    "class_mode = 'categorical')"
   ]
  },
  {
   "cell_type": "code",
   "execution_count": null,
   "id": "f6b784ab",
   "metadata": {},
   "outputs": [],
   "source": [
    "import matplotlib.pyplot as plt\n",
    "%matplotlib inline\n",
    "\n",
    "\n",
    "batches_real = test_datagen.flow_from_directory('images', target_size = (512, 512), batch_size = 16, class_mode = 'categorical', seed=1234)\n",
    "batches_augmented = train_datagen.flow_from_directory('images', target_size = (512, 512), batch_size = 16, class_mode = 'categorical', seed=1234)\n",
    "\n",
    "x_batch_augmented, y_batch_augmented = next(batches_augmented)\n",
    "x_batch_real, y_batch_real = next(batches_real)\n",
    "\n",
    "for i in range(16):\n",
    "    image_augmented = x_batch_augmented[i]\n",
    "    image_real = x_batch_real[i]\n",
    "    \n",
    "    title_add_on = \"random image\"\n",
    "    if y_batch_augmented[i][1]: title_add_on =  \"santa\"\n",
    "\n",
    "    plt.subplot(221)\n",
    "    plt.imshow(image_real)\n",
    "    plt.title(\"original \" + title_add_on)\n",
    "\n",
    "        \n",
    "    plt.subplot(222)\n",
    "    plt.imshow(image_augmented)\n",
    "    plt.title(\"augmented \" + title_add_on)\n",
    "\n",
    "    plt.show()"
   ]
  },
  {
   "cell_type": "code",
   "execution_count": null,
   "id": "4c5079e6",
   "metadata": {},
   "outputs": [],
   "source": [
    "#Nous avons une normalisation des différentes valeurs (3) que peuvent prendre les couleurs (bleu, rouge, vert).\n",
    "#Où chaque couleur est évalué sur une plage de 1 à 255 pour les 3 couleurs.\n",
    "#Un déplacement vertical et horizontl de l'image.\n",
    "#Un zoom effectué sur l'image\n",
    "#Une rotation de l'image \n",
    "#Un renversement horizontal de l'image\n",
    "#Un étirement rotationnel de l'image\n",
    "\n",
    "#Cela permet dans un premier temps d'avoir plus de données sous la main sans utiliser davantage de\n",
    "#mémoire. Mais permet également d'éviter le sur apprentissage."
   ]
  },
  {
   "cell_type": "code",
   "execution_count": null,
   "id": "5f08fb5c",
   "metadata": {},
   "outputs": [],
   "source": [
    "classifier = Sequential()\n",
    "\n",
    "conv2d_5 = Conv2D(filters = 32, kernel_size = (1, 1),  padding = 'valid', input_shape = (64, 64,3), activation = 'relu')\n",
    "max_pooling2d_5 = MaxPooling2D(pool_size = (2, 2))\n",
    "conv2d_6 = Conv2D(filters = 32, kernel_size = (3, 3),  padding = 'valid', activation = 'relu')\n",
    "max_pooling2d_6 = MaxPooling2D(pool_size = (2,2))\n",
    "\n",
    "flaten_3 = Flatten()\n",
    "\n",
    "dense_5 = Dense(units = 128, activation = 'relu')\n",
    "dense_6 = Dense(units = 2, activation='softmax')\n",
    "\n",
    "classifier.add(conv2d_5)\n",
    "classifier.add(max_pooling2d_5)\n",
    "classifier.add(conv2d_6)\n",
    "classifier.add(max_pooling2d_6)\n",
    "classifier.add(flaten_3)\n",
    "classifier.add(Dense(units = 128, activation = 'relu'))\n",
    "classifier.add(dense_6)\n",
    "\n",
    "classifier.summary()"
   ]
  },
  {
   "cell_type": "code",
   "execution_count": null,
   "id": "7331755a",
   "metadata": {},
   "outputs": [],
   "source": [
    "classifier.compile(optimizer='adam', loss='sparse_categorical_crossentropy', metrics=['acc'])"
   ]
  },
  {
   "cell_type": "code",
   "execution_count": null,
   "id": "869ecda6",
   "metadata": {},
   "outputs": [],
   "source": [
    "training_set = train_datagen.flow_from_directory('images',\n",
    "target_size = (64, 64), batch_size = 32, class_mode = 'categorical')\n",
    "\n",
    "test_set = test_datagen.flow_from_directory('images_test', \n",
    "target_size = (64, 64),\n",
    "batch_size = 32,\n",
    "class_mode = 'categorical')"
   ]
  },
  {
   "cell_type": "code",
   "execution_count": null,
   "id": "9bd923df",
   "metadata": {},
   "outputs": [],
   "source": [
    "batch_size = 32\n",
    "\n",
    "history = classifier.fit_generator(generator=training_set, \n",
    "                                   epochs = 10,\n",
    "                                   steps_per_epoch = 665//batch_size,\n",
    "                                   validation_data = test_set,\n",
    "                                   validation_steps = 78//batch_size\n",
    "                                   )"
   ]
  },
  {
   "cell_type": "code",
   "execution_count": null,
   "id": "0c92e183",
   "metadata": {},
   "outputs": [],
   "source": [
    "from tensorflow.keras.preprocessing import image\n",
    "import matplotlib.image as mpimg\n",
    "import numpy as np\n",
    "\n",
    "txt ='thor.jpg' # Préciser le chemin local\n",
    "test_image = image.load_img(txt, target_size = (64, 64))\n",
    "test_image = image.img_to_array(test_image)/255\n",
    "test_image = np.expand_dims(test_image, axis = 0)\n",
    "\n",
    "proba = round(100*classifier.predict(test_image)[0][1], 2)\n",
    "if proba < 50:\n",
    "    santa_or_not = 'Not Santa'\n",
    "    proba = round(100-proba, 2)\n",
    "else:\n",
    "    santa_or_not = 'Santa'\n",
    "img = mpimg.imread(txt)\n",
    "plt.axis('off')\n",
    "plt.text(-10, -15, santa_or_not+': '+str(proba)+'%', color = (1, 0, 0), fontsize = 20, fontweight = 'extra bold')\n",
    "imgplot = plt.imshow(img)"
   ]
  }
 ],
 "metadata": {
  "kernelspec": {
   "display_name": "Python 3 (ipykernel)",
   "language": "python",
   "name": "python3"
  },
  "language_info": {
   "codemirror_mode": {
    "name": "ipython",
    "version": 3
   },
   "file_extension": ".py",
   "mimetype": "text/x-python",
   "name": "python",
   "nbconvert_exporter": "python",
   "pygments_lexer": "ipython3",
   "version": "3.9.7"
  }
 },
 "nbformat": 4,
 "nbformat_minor": 5
}
