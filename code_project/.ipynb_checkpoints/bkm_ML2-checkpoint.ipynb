{
 "cells": [
  {
   "cell_type": "code",
   "execution_count": 2,
   "id": "d524ef5e",
   "metadata": {},
   "outputs": [],
   "source": [
    "import pandas as pd\n",
    "import matplotlib.pyplot as plt\n",
    "import numpy as np\n",
    "import datetime\n",
    "from sklearn.model_selection import train_test_split\n",
    "from sklearn import model_selection, preprocessing\n",
    "from sklearn.model_selection import train_test_split\n",
    "from sklearn.svm import SVC\n",
    "#from imblearn.metrics import classification_report_imbalanced\n",
    "from sklearn.preprocessing import StandardScaler, MinMaxScaler\n",
    "from sklearn import neighbors\n",
    "from sklearn.tree import DecisionTreeClassifier\n",
    "from sklearn import ensemble"
   ]
  },
  {
   "cell_type": "code",
   "execution_count": 3,
   "id": "088301fa",
   "metadata": {},
   "outputs": [],
   "source": [
    "df = pd.read_csv('csv_files/atp_data.csv')"
   ]
  },
  {
   "cell_type": "markdown",
   "id": "c29b75b7",
   "metadata": {},
   "source": [
    "<center><h1><span style=\"color: #26B260\"> Les algorithmes </span> </h1></center>"
   ]
  },
  {
   "cell_type": "code",
   "execution_count": 4,
   "id": "2124d52a",
   "metadata": {},
   "outputs": [],
   "source": [
    "KNN = neighbors.KNeighborsClassifier(n_neighbors=3, metric='minkowski', weights='distance')\n",
    "Decision_tree = DecisionTreeClassifier(criterion = 'entropy')\n",
    "Random_forest = ensemble.RandomForestClassifier(criterion='entropy', max_depth = 30, n_estimators = 80)"
   ]
  },
  {
   "cell_type": "markdown",
   "id": "0218e21c",
   "metadata": {},
   "source": [
    "<center><h1> <span style=\"color: #26B260\">  La fonction de prédiction pour un match </span> </h1></center>"
   ]
  },
  {
   "cell_type": "code",
   "execution_count": 5,
   "id": "1ad04238",
   "metadata": {},
   "outputs": [],
   "source": [
    "def model(row, status,needed_data, classifier):\n",
    "    list_of_predection = []       # la liste des prediction 1: pour un joueur qui gagne un match et \n",
    "                                  # 0: pour un jour qui perd un match\n",
    "    \n",
    "    list_of_resultat = []         # liste des resultats du bookmaker\n",
    "    list_of_row = []              # liste des lignes sélectionné pour faire l'analyse\n",
    "    \n",
    "    player = df.loc[row][status]  # On selectione un joueur \"winner\" ou \"Loser\"\n",
    "    \n",
    "    df1 = df.iloc[0:row+1]        # On selectionne un sous dataset qui contient toutes les informations du dataset\n",
    "                                  # de 0 à row\n",
    " \n",
    "                                   \n",
    "    \n",
    "    # On prend du df1 seulment les observations ou le joueur a joué \n",
    "    df_player = df1[(df1['Winner'] == player) | (df1['Loser'] == player)].sort_values(by=['Date'], ascending= True)\n",
    "    \n",
    "    # on enlève la vairiables inutiles\n",
    "    df_player = df_player.drop(['Date','Location', 'Comment','ATP', 'PSW', 'PSL', 'B365W', 'B365L', \n",
    "                                'Round', 'Wsets', 'Lsets'], axis = 1)\n",
    "    \n",
    "    # On crée une colonne qui remplace le winner el le loser de chaque match par 1 et 0 respectivement.\n",
    "    df_player['Winner'] = df_player['Winner'].replace(to_replace = player, value = 1)\n",
    "    df_player['Loser'] = df_player['Loser'].replace(to_replace = player, value = 0)\n",
    "    df_player['result'] = df_player.apply(lambda row: row['Winner'] if type(row['Winner']) == int \n",
    "                                                           else row['Loser'], axis = 1)\n",
    "    \n",
    "    \n",
    "    # On supprime les colonnes Winner et loser qui ne sont plus utiles pour la suite\n",
    "    df_player = df_player.drop(['Winner', 'Loser'], axis = 1)\n",
    "    df_player = df_player.dropna(axis = 0, how = 'any')\n",
    "    \n",
    "    # On separe la variables cible des variables explicatives\n",
    "    target = df_player['result']\n",
    "    data = df_player.drop('result', axis = 1)\n",
    "    \n",
    "    # on décode les variables qualitatives par la fonction get_dummies\n",
    "    data = data.join(pd.get_dummies(data[['Tournament','Series', 'Court', 'Surface']]))\n",
    "    \n",
    "    # On supprime les variables qualitatives        \n",
    "    data = data.drop(['Tournament','Series', 'Court', 'Surface'], axis = 1)\n",
    "    \n",
    "    \n",
    "    \n",
    "    if len(data) > needed_data:         # condition qu'un joueur à jouer un certain nombre de match = needed_data \n",
    "                                        # pour lancer l'algorithme\n",
    "        list_of_row.append(row)\n",
    "        slice = int(len(data)*0.75)     # on séléctionne 75% des informations comme ensemble d'entrainement\n",
    "        \n",
    "          # Cette boucle fonctionne de la manière suivante:\n",
    "          # 1- à la premiere iteration on lance l'agorithme sur l'ensemble d'entrainement indiqué en haut \n",
    "          #    et on fait une prediction sur la ligne nombre = slice + 1\n",
    "          # 2- puis on ajoute la ligne \"slice + 1\" à l'ensemble d'entrainement et on relance l'algorithme \n",
    "          #    sur cet ensemble pour prédire le résultat du joueur sur la ligne slice + 2\n",
    "          # 3- on repete les memes étapes pour trouver une prediction sur un ensemble des observation de \n",
    "          #    longueur [slice: len(data) - 1] qui sera considére dans la suite comme ensemble de test et \n",
    "          #    de trouver aussi un prédiction du resultat du joueur sur la derniere ligne du data\n",
    "        for i in range(slice, len(data)):\n",
    "            \n",
    "            X_train = data.iloc[0:i]\n",
    "            y_train = target.iloc[0:i]\n",
    "            X_test = data.iloc[i:i+1]\n",
    "            y_test = np.array(target.iloc[i:i+1])\n",
    "\n",
    "            clf = classifier\n",
    "            clf.fit(X_train, y_train)\n",
    "            \n",
    "            y_pred = clf.predict(X_test)\n",
    "            list_of_predection.append(y_pred[0])\n",
    "            list_of_resultat.append(y_test)\n",
    "\n",
    "    else:\n",
    "        return f'Not enough data for the {status} player {player}, Where the available informations are {len(data)} lines'\n",
    "    \n",
    "        \n",
    "    list=[]    # cette liste contient les bon résultats de l'algorithme\n",
    "\n",
    "    for value1, value2 in zip(list_of_predection,list_of_resultat):\n",
    "        if value1 == value2:\n",
    "            list.append(f'good predection')\n",
    "        elif value1 != value2:\n",
    "            list.append(f'bad predection')\n",
    "            \n",
    "    y_pred = clf.predict(data.tail(1))\n",
    "    \n",
    "    z = pd.DataFrame(list).value_counts(normalize = True)\n",
    "    \n",
    "    if y_pred[0] == 0:\n",
    "        return 'the fidelity of the algorithm is:',z,f'The program expects that the player {player} will lose the match and the prediction based on {len(data)} lines', 'lose', list_of_row\n",
    "    else:\n",
    "        return 'the fidelity of the algorithm is:',z,f'The program expects that the player {player} will win the match and the prediction based on {len(data)} lines', 'win', list_of_row"
   ]
  },
  {
   "cell_type": "markdown",
   "id": "9ae01ea6",
   "metadata": {},
   "source": [
    "<center><h2><span style=\"color: #26B260\"> Prédiction d'un joueur sur un match donné </span> </h2></center> "
   ]
  },
  {
   "cell_type": "code",
   "execution_count": 6,
   "id": "e6fc68db",
   "metadata": {},
   "outputs": [
    {
     "data": {
      "text/plain": [
       "('the fidelity of the algorithm is:',\n",
       " good predection    0.810345\n",
       " bad predection     0.189655\n",
       " dtype: float64,\n",
       " 'The program expects that the player Haas T. will win the match and the prediction based on 463 lines',\n",
       " 'win',\n",
       " [32400])"
      ]
     },
     "execution_count": 6,
     "metadata": {},
     "output_type": "execute_result"
    }
   ],
   "source": [
    "model(row = 32400, status = 'Winner', needed_data = 50, classifier = KNN)"
   ]
  },
  {
   "cell_type": "markdown",
   "id": "238a12d0",
   "metadata": {},
   "source": [
    "<center><h2><span style=\"color: #26B260\"> Lancement d'un modèle de classification sur plusieurs observations </span> </h2></center> "
   ]
  },
  {
   "cell_type": "code",
   "execution_count": 7,
   "id": "9d00874c",
   "metadata": {},
   "outputs": [
    {
     "ename": "KeyboardInterrupt",
     "evalue": "",
     "output_type": "error",
     "traceback": [
      "\u001b[0;31m---------------------------------------------------------------------------\u001b[0m",
      "\u001b[0;31mKeyboardInterrupt\u001b[0m                         Traceback (most recent call last)",
      "\u001b[0;32m/var/folders/vt/4q_hb0nn2dbb6_vm__4gc9tm0000gn/T/ipykernel_29795/1884783148.py\u001b[0m in \u001b[0;36m<module>\u001b[0;34m\u001b[0m\n\u001b[1;32m      5\u001b[0m \u001b[0mstatus_to_predict\u001b[0m \u001b[0;34m=\u001b[0m \u001b[0;34m'Winner'\u001b[0m\u001b[0;34m\u001b[0m\u001b[0;34m\u001b[0m\u001b[0m\n\u001b[1;32m      6\u001b[0m \u001b[0;32mfor\u001b[0m \u001b[0mrow\u001b[0m \u001b[0;32min\u001b[0m \u001b[0mrange\u001b[0m\u001b[0;34m(\u001b[0m\u001b[0;36m35000\u001b[0m\u001b[0;34m,\u001b[0m\u001b[0;36m44700\u001b[0m\u001b[0;34m)\u001b[0m\u001b[0;34m:\u001b[0m\u001b[0;34m\u001b[0m\u001b[0;34m\u001b[0m\u001b[0m\n\u001b[0;32m----> 7\u001b[0;31m     \u001b[0mz\u001b[0m \u001b[0;34m=\u001b[0m \u001b[0mmodel\u001b[0m\u001b[0;34m(\u001b[0m\u001b[0mrow\u001b[0m \u001b[0;34m=\u001b[0m \u001b[0mrow\u001b[0m\u001b[0;34m,\u001b[0m \u001b[0mstatus\u001b[0m \u001b[0;34m=\u001b[0m \u001b[0mstatus_to_predict\u001b[0m\u001b[0;34m,\u001b[0m \u001b[0mneeded_data\u001b[0m \u001b[0;34m=\u001b[0m \u001b[0;36m50\u001b[0m\u001b[0;34m,\u001b[0m \u001b[0mclassifier\u001b[0m \u001b[0;34m=\u001b[0m \u001b[0mKNN\u001b[0m\u001b[0;34m)\u001b[0m\u001b[0;34m\u001b[0m\u001b[0;34m\u001b[0m\u001b[0m\n\u001b[0m\u001b[1;32m      8\u001b[0m     \u001b[0mlist_pred\u001b[0m\u001b[0;34m.\u001b[0m\u001b[0mappend\u001b[0m\u001b[0;34m(\u001b[0m\u001b[0mz\u001b[0m\u001b[0;34m[\u001b[0m\u001b[0;36m3\u001b[0m\u001b[0;34m]\u001b[0m\u001b[0;34m)\u001b[0m\u001b[0;34m\u001b[0m\u001b[0;34m\u001b[0m\u001b[0m\n\u001b[1;32m      9\u001b[0m     \u001b[0;31m#list_bet365.append(z[4])\u001b[0m\u001b[0;34m\u001b[0m\u001b[0;34m\u001b[0m\u001b[0m\n",
      "\u001b[0;32m/var/folders/vt/4q_hb0nn2dbb6_vm__4gc9tm0000gn/T/ipykernel_29795/2846031885.py\u001b[0m in \u001b[0;36mmodel\u001b[0;34m(row, status, needed_data, classifier)\u001b[0m\n\u001b[1;32m     66\u001b[0m             \u001b[0mclf\u001b[0m\u001b[0;34m.\u001b[0m\u001b[0mfit\u001b[0m\u001b[0;34m(\u001b[0m\u001b[0mX_train\u001b[0m\u001b[0;34m,\u001b[0m \u001b[0my_train\u001b[0m\u001b[0;34m)\u001b[0m\u001b[0;34m\u001b[0m\u001b[0;34m\u001b[0m\u001b[0m\n\u001b[1;32m     67\u001b[0m \u001b[0;34m\u001b[0m\u001b[0m\n\u001b[0;32m---> 68\u001b[0;31m             \u001b[0my_pred\u001b[0m \u001b[0;34m=\u001b[0m \u001b[0mclf\u001b[0m\u001b[0;34m.\u001b[0m\u001b[0mpredict\u001b[0m\u001b[0;34m(\u001b[0m\u001b[0mX_test\u001b[0m\u001b[0;34m)\u001b[0m\u001b[0;34m\u001b[0m\u001b[0;34m\u001b[0m\u001b[0m\n\u001b[0m\u001b[1;32m     69\u001b[0m             \u001b[0mlist_of_predection\u001b[0m\u001b[0;34m.\u001b[0m\u001b[0mappend\u001b[0m\u001b[0;34m(\u001b[0m\u001b[0my_pred\u001b[0m\u001b[0;34m[\u001b[0m\u001b[0;36m0\u001b[0m\u001b[0;34m]\u001b[0m\u001b[0;34m)\u001b[0m\u001b[0;34m\u001b[0m\u001b[0;34m\u001b[0m\u001b[0m\n\u001b[1;32m     70\u001b[0m             \u001b[0mlist_of_resultat\u001b[0m\u001b[0;34m.\u001b[0m\u001b[0mappend\u001b[0m\u001b[0;34m(\u001b[0m\u001b[0my_test\u001b[0m\u001b[0;34m)\u001b[0m\u001b[0;34m\u001b[0m\u001b[0;34m\u001b[0m\u001b[0m\n",
      "\u001b[0;32m~/opt/anaconda3/lib/python3.9/site-packages/sklearn/neighbors/_classification.py\u001b[0m in \u001b[0;36mpredict\u001b[0;34m(self, X)\u001b[0m\n\u001b[1;32m    195\u001b[0m         \u001b[0mX\u001b[0m \u001b[0;34m=\u001b[0m \u001b[0mcheck_array\u001b[0m\u001b[0;34m(\u001b[0m\u001b[0mX\u001b[0m\u001b[0;34m,\u001b[0m \u001b[0maccept_sparse\u001b[0m\u001b[0;34m=\u001b[0m\u001b[0;34m'csr'\u001b[0m\u001b[0;34m)\u001b[0m\u001b[0;34m\u001b[0m\u001b[0;34m\u001b[0m\u001b[0m\n\u001b[1;32m    196\u001b[0m \u001b[0;34m\u001b[0m\u001b[0m\n\u001b[0;32m--> 197\u001b[0;31m         \u001b[0mneigh_dist\u001b[0m\u001b[0;34m,\u001b[0m \u001b[0mneigh_ind\u001b[0m \u001b[0;34m=\u001b[0m \u001b[0mself\u001b[0m\u001b[0;34m.\u001b[0m\u001b[0mkneighbors\u001b[0m\u001b[0;34m(\u001b[0m\u001b[0mX\u001b[0m\u001b[0;34m)\u001b[0m\u001b[0;34m\u001b[0m\u001b[0;34m\u001b[0m\u001b[0m\n\u001b[0m\u001b[1;32m    198\u001b[0m         \u001b[0mclasses_\u001b[0m \u001b[0;34m=\u001b[0m \u001b[0mself\u001b[0m\u001b[0;34m.\u001b[0m\u001b[0mclasses_\u001b[0m\u001b[0;34m\u001b[0m\u001b[0;34m\u001b[0m\u001b[0m\n\u001b[1;32m    199\u001b[0m         \u001b[0m_y\u001b[0m \u001b[0;34m=\u001b[0m \u001b[0mself\u001b[0m\u001b[0;34m.\u001b[0m\u001b[0m_y\u001b[0m\u001b[0;34m\u001b[0m\u001b[0;34m\u001b[0m\u001b[0m\n",
      "\u001b[0;32m~/opt/anaconda3/lib/python3.9/site-packages/sklearn/neighbors/_base.py\u001b[0m in \u001b[0;36mkneighbors\u001b[0;34m(self, X, n_neighbors, return_distance)\u001b[0m\n\u001b[1;32m    703\u001b[0m                 \u001b[0mkwds\u001b[0m \u001b[0;34m=\u001b[0m \u001b[0mself\u001b[0m\u001b[0;34m.\u001b[0m\u001b[0meffective_metric_params_\u001b[0m\u001b[0;34m\u001b[0m\u001b[0;34m\u001b[0m\u001b[0m\n\u001b[1;32m    704\u001b[0m \u001b[0;34m\u001b[0m\u001b[0m\n\u001b[0;32m--> 705\u001b[0;31m             chunked_results = list(pairwise_distances_chunked(\n\u001b[0m\u001b[1;32m    706\u001b[0m                 \u001b[0mX\u001b[0m\u001b[0;34m,\u001b[0m \u001b[0mself\u001b[0m\u001b[0;34m.\u001b[0m\u001b[0m_fit_X\u001b[0m\u001b[0;34m,\u001b[0m \u001b[0mreduce_func\u001b[0m\u001b[0;34m=\u001b[0m\u001b[0mreduce_func\u001b[0m\u001b[0;34m,\u001b[0m\u001b[0;34m\u001b[0m\u001b[0;34m\u001b[0m\u001b[0m\n\u001b[1;32m    707\u001b[0m                 \u001b[0mmetric\u001b[0m\u001b[0;34m=\u001b[0m\u001b[0mself\u001b[0m\u001b[0;34m.\u001b[0m\u001b[0meffective_metric_\u001b[0m\u001b[0;34m,\u001b[0m \u001b[0mn_jobs\u001b[0m\u001b[0;34m=\u001b[0m\u001b[0mn_jobs\u001b[0m\u001b[0;34m,\u001b[0m\u001b[0;34m\u001b[0m\u001b[0;34m\u001b[0m\u001b[0m\n",
      "\u001b[0;32m~/opt/anaconda3/lib/python3.9/site-packages/sklearn/metrics/pairwise.py\u001b[0m in \u001b[0;36mpairwise_distances_chunked\u001b[0;34m(X, Y, reduce_func, metric, n_jobs, working_memory, **kwds)\u001b[0m\n\u001b[1;32m   1621\u001b[0m         \u001b[0;32melse\u001b[0m\u001b[0;34m:\u001b[0m\u001b[0;34m\u001b[0m\u001b[0;34m\u001b[0m\u001b[0m\n\u001b[1;32m   1622\u001b[0m             \u001b[0mX_chunk\u001b[0m \u001b[0;34m=\u001b[0m \u001b[0mX\u001b[0m\u001b[0;34m[\u001b[0m\u001b[0msl\u001b[0m\u001b[0;34m]\u001b[0m\u001b[0;34m\u001b[0m\u001b[0;34m\u001b[0m\u001b[0m\n\u001b[0;32m-> 1623\u001b[0;31m         D_chunk = pairwise_distances(X_chunk, Y, metric=metric,\n\u001b[0m\u001b[1;32m   1624\u001b[0m                                      n_jobs=n_jobs, **kwds)\n\u001b[1;32m   1625\u001b[0m         if ((X is Y or Y is None)\n",
      "\u001b[0;32m~/opt/anaconda3/lib/python3.9/site-packages/sklearn/utils/validation.py\u001b[0m in \u001b[0;36minner_f\u001b[0;34m(*args, **kwargs)\u001b[0m\n\u001b[1;32m     61\u001b[0m             \u001b[0mextra_args\u001b[0m \u001b[0;34m=\u001b[0m \u001b[0mlen\u001b[0m\u001b[0;34m(\u001b[0m\u001b[0margs\u001b[0m\u001b[0;34m)\u001b[0m \u001b[0;34m-\u001b[0m \u001b[0mlen\u001b[0m\u001b[0;34m(\u001b[0m\u001b[0mall_args\u001b[0m\u001b[0;34m)\u001b[0m\u001b[0;34m\u001b[0m\u001b[0;34m\u001b[0m\u001b[0m\n\u001b[1;32m     62\u001b[0m             \u001b[0;32mif\u001b[0m \u001b[0mextra_args\u001b[0m \u001b[0;34m<=\u001b[0m \u001b[0;36m0\u001b[0m\u001b[0;34m:\u001b[0m\u001b[0;34m\u001b[0m\u001b[0;34m\u001b[0m\u001b[0m\n\u001b[0;32m---> 63\u001b[0;31m                 \u001b[0;32mreturn\u001b[0m \u001b[0mf\u001b[0m\u001b[0;34m(\u001b[0m\u001b[0;34m*\u001b[0m\u001b[0margs\u001b[0m\u001b[0;34m,\u001b[0m \u001b[0;34m**\u001b[0m\u001b[0mkwargs\u001b[0m\u001b[0;34m)\u001b[0m\u001b[0;34m\u001b[0m\u001b[0;34m\u001b[0m\u001b[0m\n\u001b[0m\u001b[1;32m     64\u001b[0m \u001b[0;34m\u001b[0m\u001b[0m\n\u001b[1;32m     65\u001b[0m             \u001b[0;31m# extra_args > 0\u001b[0m\u001b[0;34m\u001b[0m\u001b[0;34m\u001b[0m\u001b[0m\n",
      "\u001b[0;32m~/opt/anaconda3/lib/python3.9/site-packages/sklearn/metrics/pairwise.py\u001b[0m in \u001b[0;36mpairwise_distances\u001b[0;34m(X, Y, metric, n_jobs, force_all_finite, **kwds)\u001b[0m\n\u001b[1;32m   1788\u001b[0m         \u001b[0mfunc\u001b[0m \u001b[0;34m=\u001b[0m \u001b[0mpartial\u001b[0m\u001b[0;34m(\u001b[0m\u001b[0mdistance\u001b[0m\u001b[0;34m.\u001b[0m\u001b[0mcdist\u001b[0m\u001b[0;34m,\u001b[0m \u001b[0mmetric\u001b[0m\u001b[0;34m=\u001b[0m\u001b[0mmetric\u001b[0m\u001b[0;34m,\u001b[0m \u001b[0;34m**\u001b[0m\u001b[0mkwds\u001b[0m\u001b[0;34m)\u001b[0m\u001b[0;34m\u001b[0m\u001b[0;34m\u001b[0m\u001b[0m\n\u001b[1;32m   1789\u001b[0m \u001b[0;34m\u001b[0m\u001b[0m\n\u001b[0;32m-> 1790\u001b[0;31m     \u001b[0;32mreturn\u001b[0m \u001b[0m_parallel_pairwise\u001b[0m\u001b[0;34m(\u001b[0m\u001b[0mX\u001b[0m\u001b[0;34m,\u001b[0m \u001b[0mY\u001b[0m\u001b[0;34m,\u001b[0m \u001b[0mfunc\u001b[0m\u001b[0;34m,\u001b[0m \u001b[0mn_jobs\u001b[0m\u001b[0;34m,\u001b[0m \u001b[0;34m**\u001b[0m\u001b[0mkwds\u001b[0m\u001b[0;34m)\u001b[0m\u001b[0;34m\u001b[0m\u001b[0;34m\u001b[0m\u001b[0m\n\u001b[0m\u001b[1;32m   1791\u001b[0m \u001b[0;34m\u001b[0m\u001b[0m\n\u001b[1;32m   1792\u001b[0m \u001b[0;34m\u001b[0m\u001b[0m\n",
      "\u001b[0;32m~/opt/anaconda3/lib/python3.9/site-packages/sklearn/metrics/pairwise.py\u001b[0m in \u001b[0;36m_parallel_pairwise\u001b[0;34m(X, Y, func, n_jobs, **kwds)\u001b[0m\n\u001b[1;32m   1357\u001b[0m \u001b[0;34m\u001b[0m\u001b[0m\n\u001b[1;32m   1358\u001b[0m     \u001b[0;32mif\u001b[0m \u001b[0meffective_n_jobs\u001b[0m\u001b[0;34m(\u001b[0m\u001b[0mn_jobs\u001b[0m\u001b[0;34m)\u001b[0m \u001b[0;34m==\u001b[0m \u001b[0;36m1\u001b[0m\u001b[0;34m:\u001b[0m\u001b[0;34m\u001b[0m\u001b[0;34m\u001b[0m\u001b[0m\n\u001b[0;32m-> 1359\u001b[0;31m         \u001b[0;32mreturn\u001b[0m \u001b[0mfunc\u001b[0m\u001b[0;34m(\u001b[0m\u001b[0mX\u001b[0m\u001b[0;34m,\u001b[0m \u001b[0mY\u001b[0m\u001b[0;34m,\u001b[0m \u001b[0;34m**\u001b[0m\u001b[0mkwds\u001b[0m\u001b[0;34m)\u001b[0m\u001b[0;34m\u001b[0m\u001b[0;34m\u001b[0m\u001b[0m\n\u001b[0m\u001b[1;32m   1360\u001b[0m \u001b[0;34m\u001b[0m\u001b[0m\n\u001b[1;32m   1361\u001b[0m     \u001b[0;31m# enforce a threading backend to prevent data communication overhead\u001b[0m\u001b[0;34m\u001b[0m\u001b[0;34m\u001b[0m\u001b[0m\n",
      "\u001b[0;32m~/opt/anaconda3/lib/python3.9/site-packages/sklearn/utils/validation.py\u001b[0m in \u001b[0;36minner_f\u001b[0;34m(*args, **kwargs)\u001b[0m\n\u001b[1;32m     61\u001b[0m             \u001b[0mextra_args\u001b[0m \u001b[0;34m=\u001b[0m \u001b[0mlen\u001b[0m\u001b[0;34m(\u001b[0m\u001b[0margs\u001b[0m\u001b[0;34m)\u001b[0m \u001b[0;34m-\u001b[0m \u001b[0mlen\u001b[0m\u001b[0;34m(\u001b[0m\u001b[0mall_args\u001b[0m\u001b[0;34m)\u001b[0m\u001b[0;34m\u001b[0m\u001b[0;34m\u001b[0m\u001b[0m\n\u001b[1;32m     62\u001b[0m             \u001b[0;32mif\u001b[0m \u001b[0mextra_args\u001b[0m \u001b[0;34m<=\u001b[0m \u001b[0;36m0\u001b[0m\u001b[0;34m:\u001b[0m\u001b[0;34m\u001b[0m\u001b[0;34m\u001b[0m\u001b[0m\n\u001b[0;32m---> 63\u001b[0;31m                 \u001b[0;32mreturn\u001b[0m \u001b[0mf\u001b[0m\u001b[0;34m(\u001b[0m\u001b[0;34m*\u001b[0m\u001b[0margs\u001b[0m\u001b[0;34m,\u001b[0m \u001b[0;34m**\u001b[0m\u001b[0mkwargs\u001b[0m\u001b[0;34m)\u001b[0m\u001b[0;34m\u001b[0m\u001b[0;34m\u001b[0m\u001b[0m\n\u001b[0m\u001b[1;32m     64\u001b[0m \u001b[0;34m\u001b[0m\u001b[0m\n\u001b[1;32m     65\u001b[0m             \u001b[0;31m# extra_args > 0\u001b[0m\u001b[0;34m\u001b[0m\u001b[0;34m\u001b[0m\u001b[0m\n",
      "\u001b[0;32m~/opt/anaconda3/lib/python3.9/site-packages/sklearn/metrics/pairwise.py\u001b[0m in \u001b[0;36meuclidean_distances\u001b[0;34m(X, Y, Y_norm_squared, squared, X_norm_squared)\u001b[0m\n\u001b[1;32m    270\u001b[0m            [1.41421356]])\n\u001b[1;32m    271\u001b[0m     \"\"\"\n\u001b[0;32m--> 272\u001b[0;31m     \u001b[0mX\u001b[0m\u001b[0;34m,\u001b[0m \u001b[0mY\u001b[0m \u001b[0;34m=\u001b[0m \u001b[0mcheck_pairwise_arrays\u001b[0m\u001b[0;34m(\u001b[0m\u001b[0mX\u001b[0m\u001b[0;34m,\u001b[0m \u001b[0mY\u001b[0m\u001b[0;34m)\u001b[0m\u001b[0;34m\u001b[0m\u001b[0;34m\u001b[0m\u001b[0m\n\u001b[0m\u001b[1;32m    273\u001b[0m \u001b[0;34m\u001b[0m\u001b[0m\n\u001b[1;32m    274\u001b[0m     \u001b[0;31m# If norms are passed as float32, they are unused. If arrays are passed as\u001b[0m\u001b[0;34m\u001b[0m\u001b[0;34m\u001b[0m\u001b[0m\n",
      "\u001b[0;32m~/opt/anaconda3/lib/python3.9/site-packages/sklearn/utils/validation.py\u001b[0m in \u001b[0;36minner_f\u001b[0;34m(*args, **kwargs)\u001b[0m\n\u001b[1;32m     61\u001b[0m             \u001b[0mextra_args\u001b[0m \u001b[0;34m=\u001b[0m \u001b[0mlen\u001b[0m\u001b[0;34m(\u001b[0m\u001b[0margs\u001b[0m\u001b[0;34m)\u001b[0m \u001b[0;34m-\u001b[0m \u001b[0mlen\u001b[0m\u001b[0;34m(\u001b[0m\u001b[0mall_args\u001b[0m\u001b[0;34m)\u001b[0m\u001b[0;34m\u001b[0m\u001b[0;34m\u001b[0m\u001b[0m\n\u001b[1;32m     62\u001b[0m             \u001b[0;32mif\u001b[0m \u001b[0mextra_args\u001b[0m \u001b[0;34m<=\u001b[0m \u001b[0;36m0\u001b[0m\u001b[0;34m:\u001b[0m\u001b[0;34m\u001b[0m\u001b[0;34m\u001b[0m\u001b[0m\n\u001b[0;32m---> 63\u001b[0;31m                 \u001b[0;32mreturn\u001b[0m \u001b[0mf\u001b[0m\u001b[0;34m(\u001b[0m\u001b[0;34m*\u001b[0m\u001b[0margs\u001b[0m\u001b[0;34m,\u001b[0m \u001b[0;34m**\u001b[0m\u001b[0mkwargs\u001b[0m\u001b[0;34m)\u001b[0m\u001b[0;34m\u001b[0m\u001b[0;34m\u001b[0m\u001b[0m\n\u001b[0m\u001b[1;32m     64\u001b[0m \u001b[0;34m\u001b[0m\u001b[0m\n\u001b[1;32m     65\u001b[0m             \u001b[0;31m# extra_args > 0\u001b[0m\u001b[0;34m\u001b[0m\u001b[0;34m\u001b[0m\u001b[0m\n",
      "\u001b[0;32m~/opt/anaconda3/lib/python3.9/site-packages/sklearn/metrics/pairwise.py\u001b[0m in \u001b[0;36mcheck_pairwise_arrays\u001b[0;34m(X, Y, precomputed, dtype, accept_sparse, force_all_finite, copy)\u001b[0m\n\u001b[1;32m    144\u001b[0m                             estimator=estimator)\n\u001b[1;32m    145\u001b[0m     \u001b[0;32melse\u001b[0m\u001b[0;34m:\u001b[0m\u001b[0;34m\u001b[0m\u001b[0;34m\u001b[0m\u001b[0m\n\u001b[0;32m--> 146\u001b[0;31m         X = check_array(X, accept_sparse=accept_sparse, dtype=dtype,\n\u001b[0m\u001b[1;32m    147\u001b[0m                         \u001b[0mcopy\u001b[0m\u001b[0;34m=\u001b[0m\u001b[0mcopy\u001b[0m\u001b[0;34m,\u001b[0m \u001b[0mforce_all_finite\u001b[0m\u001b[0;34m=\u001b[0m\u001b[0mforce_all_finite\u001b[0m\u001b[0;34m,\u001b[0m\u001b[0;34m\u001b[0m\u001b[0;34m\u001b[0m\u001b[0m\n\u001b[1;32m    148\u001b[0m                         estimator=estimator)\n",
      "\u001b[0;32m~/opt/anaconda3/lib/python3.9/site-packages/sklearn/utils/validation.py\u001b[0m in \u001b[0;36minner_f\u001b[0;34m(*args, **kwargs)\u001b[0m\n\u001b[1;32m     61\u001b[0m             \u001b[0mextra_args\u001b[0m \u001b[0;34m=\u001b[0m \u001b[0mlen\u001b[0m\u001b[0;34m(\u001b[0m\u001b[0margs\u001b[0m\u001b[0;34m)\u001b[0m \u001b[0;34m-\u001b[0m \u001b[0mlen\u001b[0m\u001b[0;34m(\u001b[0m\u001b[0mall_args\u001b[0m\u001b[0;34m)\u001b[0m\u001b[0;34m\u001b[0m\u001b[0;34m\u001b[0m\u001b[0m\n\u001b[1;32m     62\u001b[0m             \u001b[0;32mif\u001b[0m \u001b[0mextra_args\u001b[0m \u001b[0;34m<=\u001b[0m \u001b[0;36m0\u001b[0m\u001b[0;34m:\u001b[0m\u001b[0;34m\u001b[0m\u001b[0;34m\u001b[0m\u001b[0m\n\u001b[0;32m---> 63\u001b[0;31m                 \u001b[0;32mreturn\u001b[0m \u001b[0mf\u001b[0m\u001b[0;34m(\u001b[0m\u001b[0;34m*\u001b[0m\u001b[0margs\u001b[0m\u001b[0;34m,\u001b[0m \u001b[0;34m**\u001b[0m\u001b[0mkwargs\u001b[0m\u001b[0;34m)\u001b[0m\u001b[0;34m\u001b[0m\u001b[0;34m\u001b[0m\u001b[0m\n\u001b[0m\u001b[1;32m     64\u001b[0m \u001b[0;34m\u001b[0m\u001b[0m\n\u001b[1;32m     65\u001b[0m             \u001b[0;31m# extra_args > 0\u001b[0m\u001b[0;34m\u001b[0m\u001b[0;34m\u001b[0m\u001b[0m\n",
      "\u001b[0;32m~/opt/anaconda3/lib/python3.9/site-packages/sklearn/utils/validation.py\u001b[0m in \u001b[0;36mcheck_array\u001b[0;34m(array, accept_sparse, accept_large_sparse, dtype, order, copy, force_all_finite, ensure_2d, allow_nd, ensure_min_samples, ensure_min_features, estimator)\u001b[0m\n\u001b[1;32m    718\u001b[0m \u001b[0;34m\u001b[0m\u001b[0m\n\u001b[1;32m    719\u001b[0m         \u001b[0;32mif\u001b[0m \u001b[0mforce_all_finite\u001b[0m\u001b[0;34m:\u001b[0m\u001b[0;34m\u001b[0m\u001b[0;34m\u001b[0m\u001b[0m\n\u001b[0;32m--> 720\u001b[0;31m             _assert_all_finite(array,\n\u001b[0m\u001b[1;32m    721\u001b[0m                                allow_nan=force_all_finite == 'allow-nan')\n\u001b[1;32m    722\u001b[0m \u001b[0;34m\u001b[0m\u001b[0m\n",
      "\u001b[0;32m~/opt/anaconda3/lib/python3.9/site-packages/sklearn/utils/validation.py\u001b[0m in \u001b[0;36m_assert_all_finite\u001b[0;34m(X, allow_nan, msg_dtype)\u001b[0m\n\u001b[1;32m     94\u001b[0m     \u001b[0;31m# safely to reduce dtype induced overflows.\u001b[0m\u001b[0;34m\u001b[0m\u001b[0;34m\u001b[0m\u001b[0m\n\u001b[1;32m     95\u001b[0m     \u001b[0mis_float\u001b[0m \u001b[0;34m=\u001b[0m \u001b[0mX\u001b[0m\u001b[0;34m.\u001b[0m\u001b[0mdtype\u001b[0m\u001b[0;34m.\u001b[0m\u001b[0mkind\u001b[0m \u001b[0;32min\u001b[0m \u001b[0;34m'fc'\u001b[0m\u001b[0;34m\u001b[0m\u001b[0;34m\u001b[0m\u001b[0m\n\u001b[0;32m---> 96\u001b[0;31m     \u001b[0;32mif\u001b[0m \u001b[0mis_float\u001b[0m \u001b[0;32mand\u001b[0m \u001b[0;34m(\u001b[0m\u001b[0mnp\u001b[0m\u001b[0;34m.\u001b[0m\u001b[0misfinite\u001b[0m\u001b[0;34m(\u001b[0m\u001b[0m_safe_accumulator_op\u001b[0m\u001b[0;34m(\u001b[0m\u001b[0mnp\u001b[0m\u001b[0;34m.\u001b[0m\u001b[0msum\u001b[0m\u001b[0;34m,\u001b[0m \u001b[0mX\u001b[0m\u001b[0;34m)\u001b[0m\u001b[0;34m)\u001b[0m\u001b[0;34m)\u001b[0m\u001b[0;34m:\u001b[0m\u001b[0;34m\u001b[0m\u001b[0;34m\u001b[0m\u001b[0m\n\u001b[0m\u001b[1;32m     97\u001b[0m         \u001b[0;32mpass\u001b[0m\u001b[0;34m\u001b[0m\u001b[0;34m\u001b[0m\u001b[0m\n\u001b[1;32m     98\u001b[0m     \u001b[0;32melif\u001b[0m \u001b[0mis_float\u001b[0m\u001b[0;34m:\u001b[0m\u001b[0;34m\u001b[0m\u001b[0;34m\u001b[0m\u001b[0m\n",
      "\u001b[0;31mKeyboardInterrupt\u001b[0m: "
     ]
    }
   ],
   "source": [
    "list_pred = []\n",
    "list_bet365 = []\n",
    "list_of_row = []\n",
    "\n",
    "status_to_predict = 'Winner'\n",
    "for row in range(35000,44700):\n",
    "    z = model(row = row, status = status_to_predict, needed_data = 50, classifier = KNN)\n",
    "    list_pred.append(z[3])\n",
    "    #list_bet365.append(z[4])\n",
    "    if isinstance(z[4][0], int):\n",
    "        list_of_row.append(z[4][0])"
   ]
  },
  {
   "cell_type": "markdown",
   "id": "07caf4d6",
   "metadata": {},
   "source": [
    "<center><h2><span style=\"color: #26B260\"> Collection des bons résultats cumulés dans une liste </span> </h2></center> "
   ]
  },
  {
   "cell_type": "code",
   "execution_count": null,
   "id": "5c3717aa",
   "metadata": {},
   "outputs": [],
   "source": [
    "list_pred_final = []\n",
    "for item in list_pred:\n",
    "    if item == 'win':\n",
    "        list_pred_final.append('win_pred')\n",
    "    elif item == 'lose':\n",
    "        list_pred_final.append('lose_pred')\n",
    "        \n",
    "        \n",
    "list_pred_binary = []\n",
    "list_pred_opp = []\n",
    "for i in range(len(list_pred_final)):\n",
    "    if status_to_predict == 'Winner':\n",
    "        if list_pred_final[i] == 'win_pred':\n",
    "            list_pred_binary.append(1)\n",
    "            list_pred_opp.append(1)\n",
    "        elif list_pred_final[i] == 'lose_pred':\n",
    "            list_pred_binary.append(0)\n",
    "            list_pred_opp.append(-1)\n",
    "            \n",
    "    elif status_to_predict == 'Loser':\n",
    "        if list_pred_final[i] == 'win_pred':\n",
    "            list_pred_binary.append(0)\n",
    "            list_pred_opp.append(-1)\n",
    "        elif list_pred_final[i] == 'lose_pred':\n",
    "            list_pred_binary.append(1)\n",
    "            list_pred_opp.append(1)\n",
    "\n",
    "l1=[list_pred_binary[0]]\n",
    "l2=[list_pred_opp[0]]\n",
    "\n",
    "for i in range(1,len(list_pred_final)):\n",
    "    value1 = list_pred_binary[i] + l1[i-1]\n",
    "    value2 = list_pred_opp[i] + l2[i-1]\n",
    "    l1.append(value1)\n",
    "    l2.append(value2)"
   ]
  },
  {
   "cell_type": "markdown",
   "id": "b742c471",
   "metadata": {},
   "source": [
    "<center><h2><span style=\"color: #26B260\"> affichage du taux de précision de l'algorithme et du bookmaker </span> </h2></center> "
   ]
  },
  {
   "cell_type": "code",
   "execution_count": null,
   "id": "13ed265f",
   "metadata": {},
   "outputs": [],
   "source": [
    "list_of_bookmaker = []\n",
    "list_bookmaker_opp = []\n",
    "\n",
    "resultat_dataframe = pd.DataFrame()\n",
    "\n",
    "resultat_dataframe.index = list_of_row\n",
    "\n",
    "resultat_dataframe['algorithm_prediction'] = list_pred_binary\n",
    "#resultat_dataframe['liste de bookmakers'] = list_bet365_final\n",
    "resultat_dataframe['B365W'] = df.iloc[resultat_dataframe.index]['B365W']\n",
    "resultat_dataframe['B365L'] = df.iloc[resultat_dataframe.index]['B365L']\n",
    "\n",
    "for rate1, rate2 in zip(resultat_dataframe['B365W'], resultat_dataframe['B365L']):\n",
    "    if rate1 < rate2:\n",
    "        list_of_bookmaker.append(1)\n",
    "        list_bookmaker_opp.append(1)\n",
    "      \n",
    "    elif rate1 > rate2:\n",
    "        list_of_bookmaker.append(0)\n",
    "        list_bookmaker_opp.append(-1)\n",
    "        \n",
    "    else:\n",
    "        list_of_bookmaker.append(1)\n",
    "        list_bookmaker_opp.append(1)\n",
    "        \n",
    "resultat_dataframe['bookmaker_prediction'] = list_of_bookmaker\n",
    "\n",
    "display(resultat_dataframe.sample(30))\n",
    "\n",
    "print(\"la prediction de l'algorithme est:\")\n",
    "display(resultat_dataframe['algorithm_prediction'].value_counts(normalize = True))\n",
    "\n",
    "print(\"\\nla prediction du bookmaker est:\")\n",
    "display(resultat_dataframe['bookmaker_prediction'].value_counts(normalize = True))\n",
    "\n",
    "resultat_dataframe.shape"
   ]
  },
  {
   "cell_type": "markdown",
   "id": "c3c7b0a8",
   "metadata": {},
   "source": [
    "<center><h2><span style=\"color: #26B260\"> visualisation des résultats sur un graphe </span> </h2></center> "
   ]
  },
  {
   "cell_type": "code",
   "execution_count": null,
   "id": "3064deda",
   "metadata": {},
   "outputs": [],
   "source": [
    "\n",
    "L1=[list_of_bookmaker[0]]\n",
    "L2=[list_bookmaker_opp[0]]\n",
    "\n",
    "    \n",
    "for i in range(1,len(list_bookmaker_opp)):\n",
    "    value1 = list_of_bookmaker[i] + L1[i-1]\n",
    "    value2 = list_bookmaker_opp[i] + L2[i-1]\n",
    "    L1.append(value1)\n",
    "    L2.append(value2)   \n",
    "\n",
    "\n",
    "plt.figure(figsize=(15,13))\n",
    "plt.subplot(2,1,1)\n",
    "plt.plot([i for i in range(0, len(resultat_dataframe))], l1, 'y', label=\"Algo résultat\")\n",
    "plt.plot([i for i in range(0, len(resultat_dataframe))], L1, 'b', label=\"Bookmaker résultat\")\n",
    "plt.xlabel(\"Nombre d'observations\")\n",
    "plt.ylabel('Résultat Cumulé')\n",
    "plt.title('Bonne_pred: 1, Mauvaise_pred: 0')\n",
    "plt.legend();\n",
    "\n",
    "\n",
    "plt.subplot(2,1,2)\n",
    "plt.plot([i for i in range(0, len(resultat_dataframe))], l2, 'y', label=\"Algo résultat\")\n",
    "plt.plot([i for i in range(0, len(resultat_dataframe))], L2, 'b', label=\"Bookmaker résultat\")\n",
    "plt.xlabel(\"Nombre d'observations\")\n",
    "plt.ylabel('Résultat Cumulé')\n",
    "plt.title('Bonne_pred: 1, Mauvaise_pred: -1')\n",
    "plt.legend();\n"
   ]
  },
  {
   "cell_type": "markdown",
   "id": "411657cd",
   "metadata": {},
   "source": [
    "<center><h2><span style=\"color: #26B260\"> Résultat Final </span> </h2></center> "
   ]
  },
  {
   "cell_type": "code",
   "execution_count": null,
   "id": "fb83bbe2",
   "metadata": {},
   "outputs": [],
   "source": [
    "win = resultat_dataframe[resultat_dataframe['algorithm_prediction'] == 1]\n",
    "\n",
    "\n",
    "lose = resultat_dataframe[resultat_dataframe['algorithm_prediction'] == 0]\n",
    "\n",
    "print(f\"Le montant total de gain sur {len(L1)} matchs en déposant un euro sur chaque match prévue gagnant par l'algorithme est :{round(win['B365W'].sum() - len(win) - len(lose))} euros\")\n",
    "\n",
    "win_book = resultat_dataframe[resultat_dataframe['bookmaker_prediction'] == 1]\n",
    "\n",
    "lose_book = resultat_dataframe[resultat_dataframe['bookmaker_prediction'] == 0]\n",
    "\n",
    "print(f\"Le montant total de gain sur {len(L1)} matchs en déposant un euro sur chaque match prévue gagnant par le bookmaker est :{round(win_book['B365W'].sum() - len(win_book) - len(lose_book))} euros\")"
   ]
  },
  {
   "cell_type": "code",
   "execution_count": null,
   "id": "53747119",
   "metadata": {},
   "outputs": [],
   "source": []
  }
 ],
 "metadata": {
  "kernelspec": {
   "display_name": "Python 3 (ipykernel)",
   "language": "python",
   "name": "python3"
  },
  "language_info": {
   "codemirror_mode": {
    "name": "ipython",
    "version": 3
   },
   "file_extension": ".py",
   "mimetype": "text/x-python",
   "name": "python",
   "nbconvert_exporter": "python",
   "pygments_lexer": "ipython3",
   "version": "3.9.7"
  }
 },
 "nbformat": 4,
 "nbformat_minor": 5
}
