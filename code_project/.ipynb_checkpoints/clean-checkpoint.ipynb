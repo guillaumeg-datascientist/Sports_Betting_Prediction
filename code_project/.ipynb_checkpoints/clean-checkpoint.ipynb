{
 "cells": [
  {
   "cell_type": "code",
   "execution_count": 14,
   "id": "c11d358a",
   "metadata": {},
   "outputs": [],
   "source": [
    "import pandas as pd\n",
    "import numpy as np\n",
    "import datetime"
   ]
  },
  {
   "cell_type": "code",
   "execution_count": 50,
   "id": "7fb6df8d",
   "metadata": {},
   "outputs": [
    {
     "name": "stderr",
     "output_type": "stream",
     "text": [
      "/Users/guillaumegreau/opt/anaconda3/lib/python3.9/site-packages/IPython/core/interactiveshell.py:3444: DtypeWarning: Columns (28,29,30,31,32,33,34,35,36,37,38,39,40,41,42,43) have mixed types.Specify dtype option on import or set low_memory=False.\n",
      "  exec(code_obj, self.user_global_ns, self.user_ns)\n"
     ]
    }
   ],
   "source": [
    "df = pd.read_csv('atp_data_all_years_2.csv', sep = \";\")\n",
    "#df.drop(['index'], axis = 1, inplace = True)"
   ]
  },
  {
   "cell_type": "code",
   "execution_count": 51,
   "id": "2ed5cb4c",
   "metadata": {},
   "outputs": [],
   "source": [
    "df.drop(['Unnamed: 0'], axis = 1, inplace=True)"
   ]
  },
  {
   "cell_type": "code",
   "execution_count": 52,
   "id": "5d7a8409",
   "metadata": {},
   "outputs": [
    {
     "data": {
      "text/plain": [
       "Index(['Year', 'Week_number', 'Year_week', 'Date', 'Location', 'Tournament',\n",
       "       'Series', 'Court', 'Surface', 'Round', 'Winner', 'Loser', 'Best of',\n",
       "       'Wsets', 'Lsets', 'Comment', 'WPts', 'LPts', 'elo_winner', 'elo_loser',\n",
       "       'proba_elo', 'B365W', 'B365L', 'PSW', 'PSL', 'EXW', 'EXL', 'LBW', 'LBL',\n",
       "       'SJW', 'SJL', 'UBW', 'UBL', 'CBW', 'CBL', 'IWW', 'IWL', 'SBW', 'SBL',\n",
       "       'B&WW', 'B&WL', 'GBW', 'GBL'],\n",
       "      dtype='object')"
      ]
     },
     "execution_count": 52,
     "metadata": {},
     "output_type": "execute_result"
    }
   ],
   "source": [
    "df.columns"
   ]
  },
  {
   "cell_type": "code",
   "execution_count": 53,
   "id": "60571144",
   "metadata": {},
   "outputs": [],
   "source": [
    "#suppression des lignes dupliquées\n",
    "df = df.drop_duplicates(keep='first')"
   ]
  },
  {
   "cell_type": "code",
   "execution_count": 54,
   "id": "46da74c1",
   "metadata": {},
   "outputs": [],
   "source": [
    "#observation des NaN par année\n",
    "#df_nan = df.set_index('Year').isna().groupby(level=0).sum()\n",
    "#df_nan.to_csv('data_matchs_original_year_nan.csv', sep=';')"
   ]
  },
  {
   "cell_type": "code",
   "execution_count": 55,
   "id": "a104f71c",
   "metadata": {},
   "outputs": [
    {
     "data": {
      "text/plain": [
       "ATP250                14190\n",
       "International         12204\n",
       "Grand Slam            11049\n",
       "Masters 1000           6905\n",
       "Masters                5183\n",
       "ATP500                 5048\n",
       "International Gold     3755\n",
       "Masters Cup             330\n",
       "Name: Series, dtype: int64"
      ]
     },
     "execution_count": 55,
     "metadata": {},
     "output_type": "execute_result"
    }
   ],
   "source": [
    "df['Series'].value_counts()"
   ]
  },
  {
   "cell_type": "code",
   "execution_count": 56,
   "id": "7e833fc9",
   "metadata": {},
   "outputs": [],
   "source": [
    "#on remplace tous les noms des anciens types de tournoi par les nouveaux\n",
    "df = df.replace(to_replace=['International Gold', 'International', 'Masters'], value = ['ATP500', 'ATP250', 'Masters 1000'])"
   ]
  },
  {
   "cell_type": "code",
   "execution_count": 57,
   "id": "6ffe13cd",
   "metadata": {},
   "outputs": [
    {
     "data": {
      "text/plain": [
       "ATP250          26394\n",
       "Masters 1000    12088\n",
       "Grand Slam      11049\n",
       "ATP500           8803\n",
       "Masters Cup       330\n",
       "Name: Series, dtype: int64"
      ]
     },
     "execution_count": 57,
     "metadata": {},
     "output_type": "execute_result"
    }
   ],
   "source": [
    "df['Series'].value_counts()"
   ]
  },
  {
   "cell_type": "code",
   "execution_count": 58,
   "id": "9e86b7a0",
   "metadata": {},
   "outputs": [
    {
     "name": "stdout",
     "output_type": "stream",
     "text": [
      " \n",
      "1st Round        27073\n",
      "2nd Round        16248\n",
      "Quarterfinals     5580\n",
      "3rd Round         4128\n",
      "Semifinals        2834\n",
      "The Final         1417\n",
      "4th Round         1000\n",
      "Round Robin        384\n",
      "Name: Round, dtype: int64\n",
      " \n",
      "ATP250          26394\n",
      "Masters 1000    12088\n",
      "Grand Slam      11049\n",
      "ATP500           8803\n",
      "Masters Cup       330\n",
      "Name: Series, dtype: int64\n"
     ]
    }
   ],
   "source": [
    "print(\" \")\n",
    "print(df['Round'].value_counts())\n",
    "print(\" \")\n",
    "print(df['Series'].value_counts())"
   ]
  },
  {
   "cell_type": "code",
   "execution_count": 59,
   "id": "6d4d5b99",
   "metadata": {},
   "outputs": [],
   "source": [
    "#on remplace tous les noms des tournois + round par des noms plus court\n",
    "df = df.replace(to_replace = ['1st Round', '2nd Round', '3rd Round', '4th Round', \n",
    "                              'Quarterfinals', 'Semifinals', 'The Final', 'Round Robin',\n",
    "                              'Masters 1000', 'Grand Slam', 'Masters Cup'],\n",
    "                value = ['1R', '2R', '3R', '8th', 'Q', 'SF', 'F', 'RR', 'M1000', 'GS', 'ATP Final'])"
   ]
  },
  {
   "cell_type": "code",
   "execution_count": 60,
   "id": "d8ca3ba2",
   "metadata": {},
   "outputs": [
    {
     "name": "stdout",
     "output_type": "stream",
     "text": [
      " \n",
      "1R     27073\n",
      "2R     16248\n",
      "Q       5580\n",
      "3R      4128\n",
      "SF      2834\n",
      "F       1417\n",
      "8th     1000\n",
      "RR       384\n",
      "Name: Round, dtype: int64\n",
      " \n",
      "ATP250       26394\n",
      "M1000        12088\n",
      "GS           11049\n",
      "ATP500        8803\n",
      "ATP Final      330\n",
      "Name: Series, dtype: int64\n"
     ]
    }
   ],
   "source": [
    "print(\" \")\n",
    "print(df['Round'].value_counts())\n",
    "print(\" \")\n",
    "print(df['Series'].value_counts())"
   ]
  },
  {
   "cell_type": "code",
   "execution_count": 61,
   "id": "7d684b0e",
   "metadata": {},
   "outputs": [
    {
     "data": {
      "text/plain": [
       "Dubai     93\n",
       "Dubai     62\n",
       "Name: Location, dtype: int64"
      ]
     },
     "execution_count": 61,
     "metadata": {},
     "output_type": "execute_result"
    }
   ],
   "source": [
    "df[ (df['Tournament']=='Dubai Championships') | \n",
    "    (df['Tournament']=='Dubai Open') ]['Location'].value_counts()"
   ]
  },
  {
   "cell_type": "code",
   "execution_count": 62,
   "id": "88bf4e18",
   "metadata": {},
   "outputs": [],
   "source": [
    "#on remplace certains noms de localisation rentrés avec une erreur de typographie\n",
    "df = df.replace(to_replace = ['Dubai ', 'Estoril ', 'Vienna ', \"'s-Hertogenbosch\", \"Winston-Salem\", \"Nur-Sultan\",\n",
    "                             ], \n",
    "                     value = ['Dubai', 'Estoril', 'Vienna', \"Hertogenbosch\", \"Winston Salem\", \"Nur Sultan\"])"
   ]
  },
  {
   "cell_type": "code",
   "execution_count": 63,
   "id": "8ee2ceb0",
   "metadata": {},
   "outputs": [
    {
     "data": {
      "text/plain": [
       "Dubai    155\n",
       "Name: Location, dtype: int64"
      ]
     },
     "execution_count": 63,
     "metadata": {},
     "output_type": "execute_result"
    }
   ],
   "source": [
    "df[ (df['Tournament']=='Dubai Championships') | \n",
    "    (df['Tournament']=='Dubai Open') ]['Location'].value_counts()"
   ]
  },
  {
   "cell_type": "code",
   "execution_count": 64,
   "id": "e86878c5",
   "metadata": {},
   "outputs": [
    {
     "data": {
      "text/plain": [
       "BNP Paribas Open     1140\n",
       "Pacific Life Open     601\n",
       "Indian Wells TMS      126\n",
       "Name: Tournament, dtype: int64"
      ]
     },
     "execution_count": 64,
     "metadata": {},
     "output_type": "execute_result"
    }
   ],
   "source": [
    "df[ df['Location'] == 'Indian Wells']['Tournament'].value_counts()"
   ]
  },
  {
   "cell_type": "code",
   "execution_count": 65,
   "id": "da595cdf",
   "metadata": {},
   "outputs": [],
   "source": [
    "# 3 tournois différents et pourtant ce sont les mêmes tournois. Il y a simplement eu des changements de \n",
    "# noms au cours des années. En général nous avons qu'un seul tournoi par ville sauf rare exception où il peut y\n",
    "# avoir 2 tournois mais ils sont de catégories différentes (GC, M1000, ATP500, ATP250) donc nous allons rassembler \n",
    "# les tournois qui ont changés de nombs en un seul nom lié à la ville dans laquelle ils se déroulent.\n",
    "# Pour les 4 tournois du GC on leur donnera leur propre nom mais quand il s'agira d'un master 1000 on rajoutera\n",
    "# l'attribut 'Master' et si c'est un ATP 500 ou 250 on donnera l'attribut 'Championships'.\n",
    "\n",
    "# La seule exception où nous avons 2 tournois de même catégorie dans la même ville est ici :"
   ]
  },
  {
   "cell_type": "code",
   "execution_count": 66,
   "id": "7cc46ecb",
   "metadata": {},
   "outputs": [
    {
     "data": {
      "text/plain": [
       "Australian Open          2794\n",
       "Great Ocean Road Open      55\n",
       "Murray River Open          55\n",
       "Name: Tournament, dtype: int64"
      ]
     },
     "execution_count": 66,
     "metadata": {},
     "output_type": "execute_result"
    }
   ],
   "source": [
    "df[df['Location']=='Melbourne']['Tournament'].value_counts()"
   ]
  },
  {
   "cell_type": "code",
   "execution_count": 67,
   "id": "32c2048d",
   "metadata": {},
   "outputs": [],
   "source": [
    "# l'Australian Open ne pose pas de problème car c'est un tournoi du GC mais les 2 autres sont 2 tournois\n",
    "# de même catégorie et qui se déroulent dans la même ville, il est donc important de différencier la localisation\n",
    "# pour la suite. Nous rétablierons la véritable localisation par la suite."
   ]
  },
  {
   "cell_type": "code",
   "execution_count": 68,
   "id": "c93242b9",
   "metadata": {},
   "outputs": [],
   "source": [
    "df.loc[df['Tournament']=='Great Ocean Road Open', ['Location']] = 'Melbourne Great Ocean Road'\n",
    "df.loc[df['Tournament']=='Murray River Open', ['Location']] = 'Melbourne Murray River'"
   ]
  },
  {
   "cell_type": "code",
   "execution_count": 69,
   "id": "a06202e5",
   "metadata": {},
   "outputs": [],
   "source": [
    "# on remplace donc tous les noms des tournois en fonction de leur localisation et leur catégorie\n",
    "\n",
    "df['Tournament'] = df['Location'] + '-' + df['Series']\n",
    "\n",
    "def rename_tournament(tournament) :\n",
    "    \n",
    "    tournament = tournament.split('-')\n",
    "    if (tournament[1] == 'ATP250') or (tournament[1] == 'ATP500') :\n",
    "        return tournament[0] + ' Championship'\n",
    "    elif (tournament[1] == 'M1000') :\n",
    "        return tournament[0] + ' Master'\n",
    "    elif (tournament[1] == 'GS') :  \n",
    "        if (tournament[0] == 'Paris') :\n",
    "            return 'Roland Garros'\n",
    "        elif (tournament[0] == 'London') :\n",
    "            return 'Wimbledon'\n",
    "        elif (tournament[0] == 'New York') :\n",
    "            return 'US Open'\n",
    "        elif (tournament[0] == 'Melbourne') :\n",
    "            return 'Australian Open'\n",
    "    elif (tournament[1] == 'ATP Final') :\n",
    "        return tournament[0] + ' ATP Final'\n",
    "    \n",
    "df['Tournament'] = df['Tournament'].apply(rename_tournament)"
   ]
  },
  {
   "cell_type": "code",
   "execution_count": 70,
   "id": "4674c06d",
   "metadata": {},
   "outputs": [
    {
     "data": {
      "text/plain": [
       "Clay    660\n",
       "Hard    329\n",
       "Name: Surface, dtype: int64"
      ]
     },
     "execution_count": 70,
     "metadata": {},
     "output_type": "execute_result"
    }
   ],
   "source": [
    "df[df['Tournament'] == 'Madrid Master']['Surface'].value_counts()"
   ]
  },
  {
   "cell_type": "code",
   "execution_count": 71,
   "id": "8db4580a",
   "metadata": {},
   "outputs": [],
   "source": [
    "# on constate maintenant ici que le tournoi de Madrid qui est un tournoi de catégorie Master 1000 a subi\n",
    "# un changement de surface au cours des années. Nous voulons donc faire en sorte de différencier à nouveau\n",
    "# les tournois qui ont subit un changement de court (indoor ou outdoor) et de surface."
   ]
  },
  {
   "cell_type": "code",
   "execution_count": 72,
   "id": "3736db23",
   "metadata": {},
   "outputs": [],
   "source": [
    "df['Tournament'] = df['Tournament'] + '-' + df['Court'] + '-' + df['Surface']\n",
    "\n",
    "tournament = list(df['Tournament'].value_counts().index.sort_values(ascending=True))\n",
    "\n",
    "for i, t in enumerate(tournament) :\n",
    "    tournament[i] = t.split('-')\n",
    "\n",
    "name_city = np.array(tournament)[:,0]\n",
    "\n",
    "import collections\n",
    "doublons = [item for item, count in collections.Counter(name_city).items() if count > 1]\n",
    "\n",
    "doublons_tournament = []\n",
    "new_doublons_tournament = []\n",
    "\n",
    "for i, t in enumerate(tournament) : \n",
    "    if t[0] in doublons :\n",
    "        doublons_tournament.append(t[0]+'-'+t[1]+'-'+t[2])\n",
    "        new_name = t[0]+' '+ t[1][0] + t[2][0]+'-'+t[1]+'-'+t[2]\n",
    "        new_doublons_tournament.append(new_name)\n",
    "        \n",
    "df = df.replace(to_replace = doublons_tournament, value = new_doublons_tournament)\n",
    "\n",
    "df['Tournament'] = df['Tournament'].apply(lambda tournament : str(tournament).split('-')[0])"
   ]
  },
  {
   "cell_type": "code",
   "execution_count": 73,
   "id": "174b9832",
   "metadata": {},
   "outputs": [
    {
     "data": {
      "text/plain": [
       "Madrid Master OC    660\n",
       "Madrid Master IH    329\n",
       "Name: Tournament, dtype: int64"
      ]
     },
     "execution_count": 73,
     "metadata": {},
     "output_type": "execute_result"
    }
   ],
   "source": [
    "df[df['Location'] == 'Madrid']['Tournament'].value_counts()"
   ]
  },
  {
   "cell_type": "code",
   "execution_count": 74,
   "id": "7761d675",
   "metadata": {},
   "outputs": [],
   "source": [
    "# on voit bien ici que maintenant on distingue bien le tournoi de Madrid où il était en indoor-hard \n",
    "# à l'époque et que maintenant il est outdoor-clay"
   ]
  },
  {
   "cell_type": "code",
   "execution_count": 75,
   "id": "0829e6b2",
   "metadata": {},
   "outputs": [],
   "source": [
    "# on rétablit la location de départ pour ces 2 exceptions\n",
    "\n",
    "df.loc[df['Location']=='Melbourne Great Ocean Road', ['Location']] = 'Melbourne'\n",
    "df.loc[df['Location']=='Melbourne Murray River', ['Location']] = 'Melbourne'"
   ]
  },
  {
   "cell_type": "code",
   "execution_count": 76,
   "id": "1014dd22",
   "metadata": {},
   "outputs": [],
   "source": [
    "# certains tournois ne comptent pas le même nombre de rounds. De manière générale cela dépend de la catégorie\n",
    "# à laquelle le tournoi appartient.\n",
    "# le problème est que le dataset est organisé de telle manière que pour tous les tournois le 1er tour sera\n",
    "# toujours le 1R et le dernier la finale F. Les GC comptent 7 tours : 1R, 2R, 3R, 8th, Q, SF, F mais les ATP 250\n",
    "# n'en contiennent que 5 et les tours sont rerésentés de la manière suivante : 1R, 2R, Q, SF, F. Sauf que cette\n",
    "# notation pose un problème pour la suite de ce que nous voulons faire. Nous voulons que la successions de tours\n",
    "# soient cohérentes avec celles des autres tournois. On voudrait qu'ici 1R, 2R, Q, SF, F se transforment en\n",
    "# 3R, 8th, Q, SF, F. On ne veut pas de saut dans le noms des tours."
   ]
  },
  {
   "cell_type": "code",
   "execution_count": 77,
   "id": "65a55422",
   "metadata": {},
   "outputs": [],
   "source": [
    "# ici on cherche à représenter le format du tableau et du nombre de matchs par tour pour avoir une idée \n",
    "# du type de tableau auxquels on à a faire et quelles catégories de tournois concernent les changements à \n",
    "# faire\n",
    "\n",
    "df_round = df.groupby(['Year', 'Tournament', 'Series', 'Round']).count().loc[:,['Court']]\n",
    "df_round = df_round.reset_index()\n",
    "df_round['id Tournament'] = df_round['Year'].astype(str) +'-'+df_round['Tournament']+'-'+df_round['Series']\n",
    "df_round = df_round.drop(['Year', 'Tournament', 'Series'], axis = 1)\n",
    "\n",
    "all_tournaments = list(df_round['id Tournament'].value_counts().index.sort_values(ascending=True))\n",
    "df_round = df_round.set_index('id Tournament')\n",
    "\n",
    "def concat_round_nb_round(data, id_tournament, type_round, nb_matchs_round) :\n",
    "\n",
    "    df_int = data.loc[[id_tournament],:].sort_values(by = nb_matchs_round, ascending = False)\n",
    "\n",
    "    Round = ''\n",
    "    Court = ''\n",
    "    Nb_tours = 0\n",
    "\n",
    "    for element1, element2 in zip(df_int[type_round], df_int[nb_matchs_round]) :\n",
    "        Round += element1+'/'\n",
    "        Court += str(element2)+'/'\n",
    "        Nb_tours += element2\n",
    "\n",
    "    return [Round[:-1], Court[:-1], Nb_tours]\n",
    "\n",
    "data = []\n",
    "\n",
    "for tournament in all_tournaments :\n",
    "    data.append(concat_round_nb_round(df_round, tournament, 'Round', 'Court'))\n",
    "    \n",
    "infos_tournament = pd.DataFrame(data = data,\n",
    "                                index = all_tournaments,\n",
    "                                columns = ['Round', 'Nb_matchs_round', 'Nb_matchs_tournament'])"
   ]
  },
  {
   "cell_type": "code",
   "execution_count": 78,
   "id": "eb73b7f1",
   "metadata": {},
   "outputs": [
    {
     "data": {
      "text/html": [
       "<div>\n",
       "<style scoped>\n",
       "    .dataframe tbody tr th:only-of-type {\n",
       "        vertical-align: middle;\n",
       "    }\n",
       "\n",
       "    .dataframe tbody tr th {\n",
       "        vertical-align: top;\n",
       "    }\n",
       "\n",
       "    .dataframe thead th {\n",
       "        text-align: right;\n",
       "    }\n",
       "</style>\n",
       "<table border=\"1\" class=\"dataframe\">\n",
       "  <thead>\n",
       "    <tr style=\"text-align: right;\">\n",
       "      <th></th>\n",
       "      <th>Round</th>\n",
       "      <th>Nb_matchs_round</th>\n",
       "      <th>Nb_matchs_tournament</th>\n",
       "    </tr>\n",
       "  </thead>\n",
       "  <tbody>\n",
       "    <tr>\n",
       "      <th>2000-Adelaide Championship-ATP250</th>\n",
       "      <td>1R/2R/Q/SF/F</td>\n",
       "      <td>16/8/4/2/1</td>\n",
       "      <td>31</td>\n",
       "    </tr>\n",
       "    <tr>\n",
       "      <th>2000-Amsterdam Championship-ATP250</th>\n",
       "      <td>1R/2R/Q/SF/F</td>\n",
       "      <td>16/8/4/2/1</td>\n",
       "      <td>31</td>\n",
       "    </tr>\n",
       "    <tr>\n",
       "      <th>2000-Atlanta Championship OC-ATP250</th>\n",
       "      <td>1R/2R/Q/SF/F</td>\n",
       "      <td>16/8/4/2/1</td>\n",
       "      <td>31</td>\n",
       "    </tr>\n",
       "    <tr>\n",
       "      <th>2000-Auckland Championship-ATP250</th>\n",
       "      <td>1R/2R/Q/SF/F</td>\n",
       "      <td>16/8/4/2/1</td>\n",
       "      <td>31</td>\n",
       "    </tr>\n",
       "    <tr>\n",
       "      <th>2000-Australian Open-GS</th>\n",
       "      <td>1R/2R/3R/8th/Q/SF/F</td>\n",
       "      <td>64/32/16/8/4/2/1</td>\n",
       "      <td>127</td>\n",
       "    </tr>\n",
       "    <tr>\n",
       "      <th>...</th>\n",
       "      <td>...</td>\n",
       "      <td>...</td>\n",
       "      <td>...</td>\n",
       "    </tr>\n",
       "    <tr>\n",
       "      <th>2021-Umag Championship-ATP250</th>\n",
       "      <td>1R/2R/Q/SF/F</td>\n",
       "      <td>12/8/4/2/1</td>\n",
       "      <td>27</td>\n",
       "    </tr>\n",
       "    <tr>\n",
       "      <th>2021-Vienna Championship-ATP500</th>\n",
       "      <td>1R/2R/Q/SF/F</td>\n",
       "      <td>16/8/4/2/1</td>\n",
       "      <td>31</td>\n",
       "    </tr>\n",
       "    <tr>\n",
       "      <th>2021-Washington Championship OH-ATP500</th>\n",
       "      <td>1R/2R/3R/Q/SF/F</td>\n",
       "      <td>16/16/8/4/2/1</td>\n",
       "      <td>47</td>\n",
       "    </tr>\n",
       "    <tr>\n",
       "      <th>2021-Wimbledon-GS</th>\n",
       "      <td>1R/2R/3R/8th/Q/SF/F</td>\n",
       "      <td>64/32/16/8/4/2/1</td>\n",
       "      <td>127</td>\n",
       "    </tr>\n",
       "    <tr>\n",
       "      <th>2021-Winston Salem Championship-ATP250</th>\n",
       "      <td>1R/2R/3R/Q/SF/F</td>\n",
       "      <td>16/16/8/4/2/1</td>\n",
       "      <td>47</td>\n",
       "    </tr>\n",
       "  </tbody>\n",
       "</table>\n",
       "<p>1415 rows × 3 columns</p>\n",
       "</div>"
      ],
      "text/plain": [
       "                                                      Round   Nb_matchs_round  \\\n",
       "2000-Adelaide Championship-ATP250              1R/2R/Q/SF/F        16/8/4/2/1   \n",
       "2000-Amsterdam Championship-ATP250             1R/2R/Q/SF/F        16/8/4/2/1   \n",
       "2000-Atlanta Championship OC-ATP250            1R/2R/Q/SF/F        16/8/4/2/1   \n",
       "2000-Auckland Championship-ATP250              1R/2R/Q/SF/F        16/8/4/2/1   \n",
       "2000-Australian Open-GS                 1R/2R/3R/8th/Q/SF/F  64/32/16/8/4/2/1   \n",
       "...                                                     ...               ...   \n",
       "2021-Umag Championship-ATP250                  1R/2R/Q/SF/F        12/8/4/2/1   \n",
       "2021-Vienna Championship-ATP500                1R/2R/Q/SF/F        16/8/4/2/1   \n",
       "2021-Washington Championship OH-ATP500      1R/2R/3R/Q/SF/F     16/16/8/4/2/1   \n",
       "2021-Wimbledon-GS                       1R/2R/3R/8th/Q/SF/F  64/32/16/8/4/2/1   \n",
       "2021-Winston Salem Championship-ATP250      1R/2R/3R/Q/SF/F     16/16/8/4/2/1   \n",
       "\n",
       "                                        Nb_matchs_tournament  \n",
       "2000-Adelaide Championship-ATP250                         31  \n",
       "2000-Amsterdam Championship-ATP250                        31  \n",
       "2000-Atlanta Championship OC-ATP250                       31  \n",
       "2000-Auckland Championship-ATP250                         31  \n",
       "2000-Australian Open-GS                                  127  \n",
       "...                                                      ...  \n",
       "2021-Umag Championship-ATP250                             27  \n",
       "2021-Vienna Championship-ATP500                           31  \n",
       "2021-Washington Championship OH-ATP500                    47  \n",
       "2021-Wimbledon-GS                                        127  \n",
       "2021-Winston Salem Championship-ATP250                    47  \n",
       "\n",
       "[1415 rows x 3 columns]"
      ]
     },
     "execution_count": 78,
     "metadata": {},
     "output_type": "execute_result"
    }
   ],
   "source": [
    "infos_tournament"
   ]
  },
  {
   "cell_type": "code",
   "execution_count": 79,
   "id": "1581cb37",
   "metadata": {},
   "outputs": [
    {
     "data": {
      "text/html": [
       "<div>\n",
       "<style scoped>\n",
       "    .dataframe tbody tr th:only-of-type {\n",
       "        vertical-align: middle;\n",
       "    }\n",
       "\n",
       "    .dataframe tbody tr th {\n",
       "        vertical-align: top;\n",
       "    }\n",
       "\n",
       "    .dataframe thead th {\n",
       "        text-align: right;\n",
       "    }\n",
       "</style>\n",
       "<table border=\"1\" class=\"dataframe\">\n",
       "  <thead>\n",
       "    <tr style=\"text-align: right;\">\n",
       "      <th></th>\n",
       "      <th>Year</th>\n",
       "      <th>Week_number</th>\n",
       "      <th>Year_week</th>\n",
       "      <th>Date</th>\n",
       "      <th>Location</th>\n",
       "      <th>Tournament</th>\n",
       "      <th>Series</th>\n",
       "      <th>Court</th>\n",
       "      <th>Surface</th>\n",
       "      <th>Round</th>\n",
       "      <th>...</th>\n",
       "      <th>CBW</th>\n",
       "      <th>CBL</th>\n",
       "      <th>IWW</th>\n",
       "      <th>IWL</th>\n",
       "      <th>SBW</th>\n",
       "      <th>SBL</th>\n",
       "      <th>B&amp;WW</th>\n",
       "      <th>B&amp;WL</th>\n",
       "      <th>GBW</th>\n",
       "      <th>GBL</th>\n",
       "    </tr>\n",
       "  </thead>\n",
       "  <tbody>\n",
       "    <tr>\n",
       "      <th>0</th>\n",
       "      <td>2000</td>\n",
       "      <td>1</td>\n",
       "      <td>200001</td>\n",
       "      <td>03/01/2000</td>\n",
       "      <td>Adelaide</td>\n",
       "      <td>Adelaide Championship</td>\n",
       "      <td>ATP250</td>\n",
       "      <td>Outdoor</td>\n",
       "      <td>Hard</td>\n",
       "      <td>1R</td>\n",
       "      <td>...</td>\n",
       "      <td>NaN</td>\n",
       "      <td>NaN</td>\n",
       "      <td>NaN</td>\n",
       "      <td>NaN</td>\n",
       "      <td>NaN</td>\n",
       "      <td>NaN</td>\n",
       "      <td>NaN</td>\n",
       "      <td>NaN</td>\n",
       "      <td>NaN</td>\n",
       "      <td>NaN</td>\n",
       "    </tr>\n",
       "    <tr>\n",
       "      <th>1</th>\n",
       "      <td>2000</td>\n",
       "      <td>1</td>\n",
       "      <td>200001</td>\n",
       "      <td>03/01/2000</td>\n",
       "      <td>Adelaide</td>\n",
       "      <td>Adelaide Championship</td>\n",
       "      <td>ATP250</td>\n",
       "      <td>Outdoor</td>\n",
       "      <td>Hard</td>\n",
       "      <td>1R</td>\n",
       "      <td>...</td>\n",
       "      <td>NaN</td>\n",
       "      <td>NaN</td>\n",
       "      <td>NaN</td>\n",
       "      <td>NaN</td>\n",
       "      <td>NaN</td>\n",
       "      <td>NaN</td>\n",
       "      <td>NaN</td>\n",
       "      <td>NaN</td>\n",
       "      <td>NaN</td>\n",
       "      <td>NaN</td>\n",
       "    </tr>\n",
       "    <tr>\n",
       "      <th>2</th>\n",
       "      <td>2000</td>\n",
       "      <td>1</td>\n",
       "      <td>200001</td>\n",
       "      <td>03/01/2000</td>\n",
       "      <td>Adelaide</td>\n",
       "      <td>Adelaide Championship</td>\n",
       "      <td>ATP250</td>\n",
       "      <td>Outdoor</td>\n",
       "      <td>Hard</td>\n",
       "      <td>1R</td>\n",
       "      <td>...</td>\n",
       "      <td>NaN</td>\n",
       "      <td>NaN</td>\n",
       "      <td>NaN</td>\n",
       "      <td>NaN</td>\n",
       "      <td>NaN</td>\n",
       "      <td>NaN</td>\n",
       "      <td>NaN</td>\n",
       "      <td>NaN</td>\n",
       "      <td>NaN</td>\n",
       "      <td>NaN</td>\n",
       "    </tr>\n",
       "    <tr>\n",
       "      <th>3</th>\n",
       "      <td>2000</td>\n",
       "      <td>1</td>\n",
       "      <td>200001</td>\n",
       "      <td>03/01/2000</td>\n",
       "      <td>Adelaide</td>\n",
       "      <td>Adelaide Championship</td>\n",
       "      <td>ATP250</td>\n",
       "      <td>Outdoor</td>\n",
       "      <td>Hard</td>\n",
       "      <td>1R</td>\n",
       "      <td>...</td>\n",
       "      <td>NaN</td>\n",
       "      <td>NaN</td>\n",
       "      <td>NaN</td>\n",
       "      <td>NaN</td>\n",
       "      <td>NaN</td>\n",
       "      <td>NaN</td>\n",
       "      <td>NaN</td>\n",
       "      <td>NaN</td>\n",
       "      <td>NaN</td>\n",
       "      <td>NaN</td>\n",
       "    </tr>\n",
       "    <tr>\n",
       "      <th>4</th>\n",
       "      <td>2000</td>\n",
       "      <td>1</td>\n",
       "      <td>200001</td>\n",
       "      <td>03/01/2000</td>\n",
       "      <td>Adelaide</td>\n",
       "      <td>Adelaide Championship</td>\n",
       "      <td>ATP250</td>\n",
       "      <td>Outdoor</td>\n",
       "      <td>Hard</td>\n",
       "      <td>1R</td>\n",
       "      <td>...</td>\n",
       "      <td>NaN</td>\n",
       "      <td>NaN</td>\n",
       "      <td>NaN</td>\n",
       "      <td>NaN</td>\n",
       "      <td>NaN</td>\n",
       "      <td>NaN</td>\n",
       "      <td>NaN</td>\n",
       "      <td>NaN</td>\n",
       "      <td>NaN</td>\n",
       "      <td>NaN</td>\n",
       "    </tr>\n",
       "  </tbody>\n",
       "</table>\n",
       "<p>5 rows × 43 columns</p>\n",
       "</div>"
      ],
      "text/plain": [
       "   Year  Week_number  Year_week        Date  Location             Tournament  \\\n",
       "0  2000            1     200001  03/01/2000  Adelaide  Adelaide Championship   \n",
       "1  2000            1     200001  03/01/2000  Adelaide  Adelaide Championship   \n",
       "2  2000            1     200001  03/01/2000  Adelaide  Adelaide Championship   \n",
       "3  2000            1     200001  03/01/2000  Adelaide  Adelaide Championship   \n",
       "4  2000            1     200001  03/01/2000  Adelaide  Adelaide Championship   \n",
       "\n",
       "   Series    Court Surface Round  ...  CBW  CBL  IWW  IWL  SBW  SBL  B&WW  \\\n",
       "0  ATP250  Outdoor    Hard    1R  ...  NaN  NaN  NaN  NaN  NaN  NaN   NaN   \n",
       "1  ATP250  Outdoor    Hard    1R  ...  NaN  NaN  NaN  NaN  NaN  NaN   NaN   \n",
       "2  ATP250  Outdoor    Hard    1R  ...  NaN  NaN  NaN  NaN  NaN  NaN   NaN   \n",
       "3  ATP250  Outdoor    Hard    1R  ...  NaN  NaN  NaN  NaN  NaN  NaN   NaN   \n",
       "4  ATP250  Outdoor    Hard    1R  ...  NaN  NaN  NaN  NaN  NaN  NaN   NaN   \n",
       "\n",
       "   B&WL  GBW  GBL  \n",
       "0   NaN  NaN  NaN  \n",
       "1   NaN  NaN  NaN  \n",
       "2   NaN  NaN  NaN  \n",
       "3   NaN  NaN  NaN  \n",
       "4   NaN  NaN  NaN  \n",
       "\n",
       "[5 rows x 43 columns]"
      ]
     },
     "execution_count": 79,
     "metadata": {},
     "output_type": "execute_result"
    }
   ],
   "source": [
    "df.head()"
   ]
  },
  {
   "cell_type": "code",
   "execution_count": 80,
   "id": "ba3de3c5",
   "metadata": {},
   "outputs": [],
   "source": [
    "tournament_type_2 = list(infos_tournament[(infos_tournament['Round'] == '1R/2R/3R/Q/SF/F') |\n",
    "                                          (infos_tournament['Round'] == '2R/1R/3R/Q/SF/F')].index)\n",
    "\n",
    "tournament_type_3 = list(infos_tournament[infos_tournament['Round'] == '1R/2R/Q/SF/F'].index)\n",
    "\n",
    "df['Year-Tournament'] = df['Year'].astype(str) + '-' + df['Tournament'] + '-' + df['Series']\n",
    "\n",
    "df = df.set_index('Year-Tournament')\n",
    "\n",
    "df.loc[tournament_type_2, ['Round']] = df.loc[tournament_type_2, ['Round']].replace(to_replace = ['1R', '2R', '3R'],\n",
    "                                                                                    value = ['2R', '3R', '8th'])\n",
    "\n",
    "df.loc[tournament_type_3, ['Round']] = df.loc[tournament_type_3, ['Round']].replace(to_replace = ['1R', '2R'],\n",
    "                                                                                    value = ['3R', '8th'])\n",
    "\n",
    "df = df.reset_index().drop('Year-Tournament', axis = 1)"
   ]
  },
  {
   "cell_type": "code",
   "execution_count": 81,
   "id": "b0d30f07",
   "metadata": {},
   "outputs": [
    {
     "data": {
      "text/html": [
       "<div>\n",
       "<style scoped>\n",
       "    .dataframe tbody tr th:only-of-type {\n",
       "        vertical-align: middle;\n",
       "    }\n",
       "\n",
       "    .dataframe tbody tr th {\n",
       "        vertical-align: top;\n",
       "    }\n",
       "\n",
       "    .dataframe thead th {\n",
       "        text-align: right;\n",
       "    }\n",
       "</style>\n",
       "<table border=\"1\" class=\"dataframe\">\n",
       "  <thead>\n",
       "    <tr style=\"text-align: right;\">\n",
       "      <th></th>\n",
       "      <th>Year</th>\n",
       "      <th>Week_number</th>\n",
       "      <th>Year_week</th>\n",
       "      <th>Date</th>\n",
       "      <th>Location</th>\n",
       "      <th>Tournament</th>\n",
       "      <th>Series</th>\n",
       "      <th>Court</th>\n",
       "      <th>Surface</th>\n",
       "      <th>Round</th>\n",
       "      <th>...</th>\n",
       "      <th>CBW</th>\n",
       "      <th>CBL</th>\n",
       "      <th>IWW</th>\n",
       "      <th>IWL</th>\n",
       "      <th>SBW</th>\n",
       "      <th>SBL</th>\n",
       "      <th>B&amp;WW</th>\n",
       "      <th>B&amp;WL</th>\n",
       "      <th>GBW</th>\n",
       "      <th>GBL</th>\n",
       "    </tr>\n",
       "  </thead>\n",
       "  <tbody>\n",
       "    <tr>\n",
       "      <th>0</th>\n",
       "      <td>2000</td>\n",
       "      <td>1</td>\n",
       "      <td>200001</td>\n",
       "      <td>03/01/2000</td>\n",
       "      <td>Adelaide</td>\n",
       "      <td>Adelaide Championship</td>\n",
       "      <td>ATP250</td>\n",
       "      <td>Outdoor</td>\n",
       "      <td>Hard</td>\n",
       "      <td>3R</td>\n",
       "      <td>...</td>\n",
       "      <td>NaN</td>\n",
       "      <td>NaN</td>\n",
       "      <td>NaN</td>\n",
       "      <td>NaN</td>\n",
       "      <td>NaN</td>\n",
       "      <td>NaN</td>\n",
       "      <td>NaN</td>\n",
       "      <td>NaN</td>\n",
       "      <td>NaN</td>\n",
       "      <td>NaN</td>\n",
       "    </tr>\n",
       "    <tr>\n",
       "      <th>1</th>\n",
       "      <td>2000</td>\n",
       "      <td>1</td>\n",
       "      <td>200001</td>\n",
       "      <td>03/01/2000</td>\n",
       "      <td>Adelaide</td>\n",
       "      <td>Adelaide Championship</td>\n",
       "      <td>ATP250</td>\n",
       "      <td>Outdoor</td>\n",
       "      <td>Hard</td>\n",
       "      <td>3R</td>\n",
       "      <td>...</td>\n",
       "      <td>NaN</td>\n",
       "      <td>NaN</td>\n",
       "      <td>NaN</td>\n",
       "      <td>NaN</td>\n",
       "      <td>NaN</td>\n",
       "      <td>NaN</td>\n",
       "      <td>NaN</td>\n",
       "      <td>NaN</td>\n",
       "      <td>NaN</td>\n",
       "      <td>NaN</td>\n",
       "    </tr>\n",
       "    <tr>\n",
       "      <th>2</th>\n",
       "      <td>2000</td>\n",
       "      <td>1</td>\n",
       "      <td>200001</td>\n",
       "      <td>03/01/2000</td>\n",
       "      <td>Adelaide</td>\n",
       "      <td>Adelaide Championship</td>\n",
       "      <td>ATP250</td>\n",
       "      <td>Outdoor</td>\n",
       "      <td>Hard</td>\n",
       "      <td>3R</td>\n",
       "      <td>...</td>\n",
       "      <td>NaN</td>\n",
       "      <td>NaN</td>\n",
       "      <td>NaN</td>\n",
       "      <td>NaN</td>\n",
       "      <td>NaN</td>\n",
       "      <td>NaN</td>\n",
       "      <td>NaN</td>\n",
       "      <td>NaN</td>\n",
       "      <td>NaN</td>\n",
       "      <td>NaN</td>\n",
       "    </tr>\n",
       "    <tr>\n",
       "      <th>3</th>\n",
       "      <td>2000</td>\n",
       "      <td>1</td>\n",
       "      <td>200001</td>\n",
       "      <td>03/01/2000</td>\n",
       "      <td>Adelaide</td>\n",
       "      <td>Adelaide Championship</td>\n",
       "      <td>ATP250</td>\n",
       "      <td>Outdoor</td>\n",
       "      <td>Hard</td>\n",
       "      <td>3R</td>\n",
       "      <td>...</td>\n",
       "      <td>NaN</td>\n",
       "      <td>NaN</td>\n",
       "      <td>NaN</td>\n",
       "      <td>NaN</td>\n",
       "      <td>NaN</td>\n",
       "      <td>NaN</td>\n",
       "      <td>NaN</td>\n",
       "      <td>NaN</td>\n",
       "      <td>NaN</td>\n",
       "      <td>NaN</td>\n",
       "    </tr>\n",
       "    <tr>\n",
       "      <th>4</th>\n",
       "      <td>2000</td>\n",
       "      <td>1</td>\n",
       "      <td>200001</td>\n",
       "      <td>03/01/2000</td>\n",
       "      <td>Adelaide</td>\n",
       "      <td>Adelaide Championship</td>\n",
       "      <td>ATP250</td>\n",
       "      <td>Outdoor</td>\n",
       "      <td>Hard</td>\n",
       "      <td>3R</td>\n",
       "      <td>...</td>\n",
       "      <td>NaN</td>\n",
       "      <td>NaN</td>\n",
       "      <td>NaN</td>\n",
       "      <td>NaN</td>\n",
       "      <td>NaN</td>\n",
       "      <td>NaN</td>\n",
       "      <td>NaN</td>\n",
       "      <td>NaN</td>\n",
       "      <td>NaN</td>\n",
       "      <td>NaN</td>\n",
       "    </tr>\n",
       "  </tbody>\n",
       "</table>\n",
       "<p>5 rows × 43 columns</p>\n",
       "</div>"
      ],
      "text/plain": [
       "   Year  Week_number  Year_week        Date  Location             Tournament  \\\n",
       "0  2000            1     200001  03/01/2000  Adelaide  Adelaide Championship   \n",
       "1  2000            1     200001  03/01/2000  Adelaide  Adelaide Championship   \n",
       "2  2000            1     200001  03/01/2000  Adelaide  Adelaide Championship   \n",
       "3  2000            1     200001  03/01/2000  Adelaide  Adelaide Championship   \n",
       "4  2000            1     200001  03/01/2000  Adelaide  Adelaide Championship   \n",
       "\n",
       "   Series    Court Surface Round  ...  CBW  CBL  IWW  IWL  SBW  SBL  B&WW  \\\n",
       "0  ATP250  Outdoor    Hard    3R  ...  NaN  NaN  NaN  NaN  NaN  NaN   NaN   \n",
       "1  ATP250  Outdoor    Hard    3R  ...  NaN  NaN  NaN  NaN  NaN  NaN   NaN   \n",
       "2  ATP250  Outdoor    Hard    3R  ...  NaN  NaN  NaN  NaN  NaN  NaN   NaN   \n",
       "3  ATP250  Outdoor    Hard    3R  ...  NaN  NaN  NaN  NaN  NaN  NaN   NaN   \n",
       "4  ATP250  Outdoor    Hard    3R  ...  NaN  NaN  NaN  NaN  NaN  NaN   NaN   \n",
       "\n",
       "   B&WL  GBW  GBL  \n",
       "0   NaN  NaN  NaN  \n",
       "1   NaN  NaN  NaN  \n",
       "2   NaN  NaN  NaN  \n",
       "3   NaN  NaN  NaN  \n",
       "4   NaN  NaN  NaN  \n",
       "\n",
       "[5 rows x 43 columns]"
      ]
     },
     "execution_count": 81,
     "metadata": {},
     "output_type": "execute_result"
    }
   ],
   "source": [
    "df.head()"
   ]
  },
  {
   "cell_type": "code",
   "execution_count": 47,
   "id": "6f97158b",
   "metadata": {},
   "outputs": [],
   "source": [
    "#on voit bien ici que les 1R se sont transformés en 3R comme nous le souhaitions"
   ]
  },
  {
   "cell_type": "code",
   "execution_count": 48,
   "id": "88939cc8",
   "metadata": {},
   "outputs": [],
   "source": [
    "#transforme la date en type datetime\n",
    "#df['Date'] = pd.to_datetime(df['Date'], format = \"%d/%m/%Y\")\n",
    "\n",
    "#on renomme la colonne\n",
    "#df.rename(columns={'Best of': 'Format'}, inplace=True)\n",
    "\n",
    "#permet de réordonner le dataframe\n",
    "#def create_id_round(tour):\n",
    "#    dictionnaire = {'RR':1, '1R':2, '2R':3, '3R':4, '8th':5, 'Q':6, 'SF':7, 'F':8}\n",
    "#    return dictionnaire[tour]\n",
    "\n",
    "#df['id_round'] = df['Round'].apply(create_id_round)\n",
    "\n",
    "#df = df.sort_values(by = ['Date', 'Tournament', 'id_round'])\n",
    "#df = df.drop('id_round', axis=1)\n",
    "\n",
    "#ajout numéro de semaine en se placant dans la base de 2000 à 2021\n",
    "#dictionnaire_year_week = {}\n",
    "\n",
    "#for i, year_week in enumerate(df['Year_week'].unique()) :\n",
    "#    dictionnaire_year_week[year_week] = i+1\n",
    "\n",
    "#def create_id_week(year_week) :\n",
    "#    return dictionnaire_year_week[year_week]\n",
    "\n",
    "#df['id_week'] = df['Year_week'].apply(create_id_week)"
   ]
  },
  {
   "cell_type": "code",
   "execution_count": 82,
   "id": "5587d636",
   "metadata": {},
   "outputs": [],
   "source": [
    "df.to_csv('atp_data_all_years_3.csv', sep=';')"
   ]
  }
 ],
 "metadata": {
  "kernelspec": {
   "display_name": "Python 3 (ipykernel)",
   "language": "python",
   "name": "python3"
  },
  "language_info": {
   "codemirror_mode": {
    "name": "ipython",
    "version": 3
   },
   "file_extension": ".py",
   "mimetype": "text/x-python",
   "name": "python",
   "nbconvert_exporter": "python",
   "pygments_lexer": "ipython3",
   "version": "3.9.7"
  }
 },
 "nbformat": 4,
 "nbformat_minor": 5
}
