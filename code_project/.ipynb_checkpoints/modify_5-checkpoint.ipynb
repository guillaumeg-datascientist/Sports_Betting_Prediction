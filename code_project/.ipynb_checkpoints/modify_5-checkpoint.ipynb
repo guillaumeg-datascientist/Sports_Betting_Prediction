{
 "cells": [
  {
   "cell_type": "code",
   "execution_count": 1,
   "id": "a4369c01",
   "metadata": {},
   "outputs": [],
   "source": [
    "import pandas as pd\n",
    "import numpy as np\n",
    "import datetime"
   ]
  },
  {
   "cell_type": "code",
   "execution_count": 2,
   "id": "9962da14",
   "metadata": {},
   "outputs": [
    {
     "name": "stderr",
     "output_type": "stream",
     "text": [
      "/Users/guillaumegreau/opt/anaconda3/lib/python3.9/site-packages/IPython/core/interactiveshell.py:3444: DtypeWarning: Columns (30,31,47,48,49,50,51,52,53,54,55,56,57,58,59,60,61,62) have mixed types.Specify dtype option on import or set low_memory=False.\n",
      "  exec(code_obj, self.user_global_ns, self.user_ns)\n"
     ]
    }
   ],
   "source": [
    "df = pd.read_csv('atp_data_all_years_5.csv', sep = \";\")"
   ]
  },
  {
   "cell_type": "code",
   "execution_count": 3,
   "id": "23eb6d00",
   "metadata": {},
   "outputs": [],
   "source": [
    "df.drop(['Index'], axis = 1, inplace = True)"
   ]
  },
  {
   "cell_type": "code",
   "execution_count": 4,
   "id": "97aefed7",
   "metadata": {},
   "outputs": [
    {
     "data": {
      "text/plain": [
       "Index(['Year', 'Week_number', 'Year_week', 'Date', 'Location', 'Tournament',\n",
       "       'Series', 'Court', 'Surface', 'Round', 'Winner', 'Loser', 'player_A',\n",
       "       'player_B', 'target', 'A_match_pts_won', 'B_match_pts_won',\n",
       "       'A_1_year_pts', 'B_1_year_pts', 'A_1_year_pts_surface',\n",
       "       'B_1_year_pts_surface', 'A_8_months_pts', 'B_8_months_pts',\n",
       "       'A_8_months_pts_surface', 'B_8_months_pts_surface', 'A_4_months_pts',\n",
       "       'B_4_months_pts', 'A_4_months_pts_surface', 'B_4_months_pts_surface',\n",
       "       'A_Rank', 'B_Rank', 'Best of', 'Wsets', 'Lsets', 'Comment', 'WPts',\n",
       "       'LPts', 'elo_winner', 'elo_loser', 'proba_elo', 'B365W', 'B365L', 'PSW',\n",
       "       'PSL', 'EXW', 'EXL', 'LBW', 'LBL', 'SJW', 'SJL', 'UBW', 'UBL', 'CBW',\n",
       "       'CBL', 'IWW', 'IWL', 'SBW', 'SBL', 'B&WW', 'B&WL', 'GBW', 'GBL'],\n",
       "      dtype='object')"
      ]
     },
     "execution_count": 4,
     "metadata": {},
     "output_type": "execute_result"
    }
   ],
   "source": [
    "df.columns"
   ]
  },
  {
   "cell_type": "code",
   "execution_count": 5,
   "id": "5de897bb",
   "metadata": {},
   "outputs": [],
   "source": [
    "df.drop(['player_A',\n",
    "       'player_B', 'target', 'A_match_pts_won', 'B_match_pts_won',\n",
    "       'A_1_year_pts', 'B_1_year_pts', 'A_1_year_pts_surface',\n",
    "       'B_1_year_pts_surface', 'A_8_months_pts', 'B_8_months_pts',\n",
    "       'A_8_months_pts_surface', 'B_8_months_pts_surface', 'A_4_months_pts',\n",
    "       'B_4_months_pts', 'A_4_months_pts_surface', 'B_4_months_pts_surface',\n",
    "       'A_Rank', 'B_Rank'], axis = 1, inplace = True)"
   ]
  },
  {
   "cell_type": "code",
   "execution_count": 7,
   "id": "da39cdd3",
   "metadata": {},
   "outputs": [],
   "source": [
    "df.to_csv('atp_data_all_years_5.csv', sep=';')"
   ]
  },
  {
   "cell_type": "code",
   "execution_count": null,
   "id": "ef053389",
   "metadata": {},
   "outputs": [],
   "source": []
  }
 ],
 "metadata": {
  "kernelspec": {
   "display_name": "Python 3 (ipykernel)",
   "language": "python",
   "name": "python3"
  },
  "language_info": {
   "codemirror_mode": {
    "name": "ipython",
    "version": 3
   },
   "file_extension": ".py",
   "mimetype": "text/x-python",
   "name": "python",
   "nbconvert_exporter": "python",
   "pygments_lexer": "ipython3",
   "version": "3.9.7"
  }
 },
 "nbformat": 4,
 "nbformat_minor": 5
}
